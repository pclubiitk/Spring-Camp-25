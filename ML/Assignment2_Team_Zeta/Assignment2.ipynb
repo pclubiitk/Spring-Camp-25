{
  "nbformat": 4,
  "nbformat_minor": 0,
  "metadata": {
    "colab": {
      "provenance": [],
      "gpuType": "T4",
      "toc_visible": true
    },
    "kernelspec": {
      "name": "python3",
      "display_name": "Python 3"
    },
    "language_info": {
      "name": "python"
    },
    "accelerator": "GPU"
  },
  "cells": [
    {
      "cell_type": "code",
      "execution_count": 84,
      "metadata": {
        "id": "9QI0CtGtPq3G"
      },
      "outputs": [],
      "source": [
        "import numpy as np\n",
        "import matplotlib.pyplot as plt\n",
        "import pandas as pd\n",
        "import seaborn as sns\n",
        "import time"
      ]
    },
    {
      "cell_type": "code",
      "source": [
        "data='/content/Classified-BioFluidsLab-IITK-JDexperiment.csv'\n",
        "df=pd.read_csv(data)\n",
        "df.fillna(df.mean(), inplace=True)\n",
        "input=df.drop(['E'],axis=1)\n",
        "target=df['E']\n",
        "df.head()"
      ],
      "metadata": {
        "colab": {
          "base_uri": "https://localhost:8080/",
          "height": 221
        },
        "id": "tksoz1KeYBGe",
        "outputId": "4f3bba8f-9c53-4c1e-de97-01e14671245c"
      },
      "execution_count": 85,
      "outputs": [
        {
          "output_type": "execute_result",
          "data": {
            "text/plain": [
              "              d         B         Q         dT          E\n",
              "0  1.935247e-09  5.807790  1.771646  15.705398  -3.221133\n",
              "1  4.758500e-09  5.269716  2.564045   9.550877   0.652858\n",
              "2  3.686770e-09  3.510369  2.752672  13.793920   5.008998\n",
              "3  3.033427e-09  4.932127  2.510767  47.348940  -0.819294\n",
              "4  8.644913e-10  3.650966  1.413866  88.453402 -40.038999"
            ],
            "text/html": [
              "\n",
              "  <div id=\"df-7608d32e-06fe-4329-b796-7ab8a21df47a\" class=\"colab-df-container\">\n",
              "    <div>\n",
              "<style scoped>\n",
              "    .dataframe tbody tr th:only-of-type {\n",
              "        vertical-align: middle;\n",
              "    }\n",
              "\n",
              "    .dataframe tbody tr th {\n",
              "        vertical-align: top;\n",
              "    }\n",
              "\n",
              "    .dataframe thead th {\n",
              "        text-align: right;\n",
              "    }\n",
              "</style>\n",
              "<table border=\"1\" class=\"dataframe\">\n",
              "  <thead>\n",
              "    <tr style=\"text-align: right;\">\n",
              "      <th></th>\n",
              "      <th>d</th>\n",
              "      <th>B</th>\n",
              "      <th>Q</th>\n",
              "      <th>dT</th>\n",
              "      <th>E</th>\n",
              "    </tr>\n",
              "  </thead>\n",
              "  <tbody>\n",
              "    <tr>\n",
              "      <th>0</th>\n",
              "      <td>1.935247e-09</td>\n",
              "      <td>5.807790</td>\n",
              "      <td>1.771646</td>\n",
              "      <td>15.705398</td>\n",
              "      <td>-3.221133</td>\n",
              "    </tr>\n",
              "    <tr>\n",
              "      <th>1</th>\n",
              "      <td>4.758500e-09</td>\n",
              "      <td>5.269716</td>\n",
              "      <td>2.564045</td>\n",
              "      <td>9.550877</td>\n",
              "      <td>0.652858</td>\n",
              "    </tr>\n",
              "    <tr>\n",
              "      <th>2</th>\n",
              "      <td>3.686770e-09</td>\n",
              "      <td>3.510369</td>\n",
              "      <td>2.752672</td>\n",
              "      <td>13.793920</td>\n",
              "      <td>5.008998</td>\n",
              "    </tr>\n",
              "    <tr>\n",
              "      <th>3</th>\n",
              "      <td>3.033427e-09</td>\n",
              "      <td>4.932127</td>\n",
              "      <td>2.510767</td>\n",
              "      <td>47.348940</td>\n",
              "      <td>-0.819294</td>\n",
              "    </tr>\n",
              "    <tr>\n",
              "      <th>4</th>\n",
              "      <td>8.644913e-10</td>\n",
              "      <td>3.650966</td>\n",
              "      <td>1.413866</td>\n",
              "      <td>88.453402</td>\n",
              "      <td>-40.038999</td>\n",
              "    </tr>\n",
              "  </tbody>\n",
              "</table>\n",
              "</div>\n",
              "    <div class=\"colab-df-buttons\">\n",
              "\n",
              "  <div class=\"colab-df-container\">\n",
              "    <button class=\"colab-df-convert\" onclick=\"convertToInteractive('df-7608d32e-06fe-4329-b796-7ab8a21df47a')\"\n",
              "            title=\"Convert this dataframe to an interactive table.\"\n",
              "            style=\"display:none;\">\n",
              "\n",
              "  <svg xmlns=\"http://www.w3.org/2000/svg\" height=\"24px\" viewBox=\"0 -960 960 960\">\n",
              "    <path d=\"M120-120v-720h720v720H120Zm60-500h600v-160H180v160Zm220 220h160v-160H400v160Zm0 220h160v-160H400v160ZM180-400h160v-160H180v160Zm440 0h160v-160H620v160ZM180-180h160v-160H180v160Zm440 0h160v-160H620v160Z\"/>\n",
              "  </svg>\n",
              "    </button>\n",
              "\n",
              "  <style>\n",
              "    .colab-df-container {\n",
              "      display:flex;\n",
              "      gap: 12px;\n",
              "    }\n",
              "\n",
              "    .colab-df-convert {\n",
              "      background-color: #E8F0FE;\n",
              "      border: none;\n",
              "      border-radius: 50%;\n",
              "      cursor: pointer;\n",
              "      display: none;\n",
              "      fill: #1967D2;\n",
              "      height: 32px;\n",
              "      padding: 0 0 0 0;\n",
              "      width: 32px;\n",
              "    }\n",
              "\n",
              "    .colab-df-convert:hover {\n",
              "      background-color: #E2EBFA;\n",
              "      box-shadow: 0px 1px 2px rgba(60, 64, 67, 0.3), 0px 1px 3px 1px rgba(60, 64, 67, 0.15);\n",
              "      fill: #174EA6;\n",
              "    }\n",
              "\n",
              "    .colab-df-buttons div {\n",
              "      margin-bottom: 4px;\n",
              "    }\n",
              "\n",
              "    [theme=dark] .colab-df-convert {\n",
              "      background-color: #3B4455;\n",
              "      fill: #D2E3FC;\n",
              "    }\n",
              "\n",
              "    [theme=dark] .colab-df-convert:hover {\n",
              "      background-color: #434B5C;\n",
              "      box-shadow: 0px 1px 3px 1px rgba(0, 0, 0, 0.15);\n",
              "      filter: drop-shadow(0px 1px 2px rgba(0, 0, 0, 0.3));\n",
              "      fill: #FFFFFF;\n",
              "    }\n",
              "  </style>\n",
              "\n",
              "    <script>\n",
              "      const buttonEl =\n",
              "        document.querySelector('#df-7608d32e-06fe-4329-b796-7ab8a21df47a button.colab-df-convert');\n",
              "      buttonEl.style.display =\n",
              "        google.colab.kernel.accessAllowed ? 'block' : 'none';\n",
              "\n",
              "      async function convertToInteractive(key) {\n",
              "        const element = document.querySelector('#df-7608d32e-06fe-4329-b796-7ab8a21df47a');\n",
              "        const dataTable =\n",
              "          await google.colab.kernel.invokeFunction('convertToInteractive',\n",
              "                                                    [key], {});\n",
              "        if (!dataTable) return;\n",
              "\n",
              "        const docLinkHtml = 'Like what you see? Visit the ' +\n",
              "          '<a target=\"_blank\" href=https://colab.research.google.com/notebooks/data_table.ipynb>data table notebook</a>'\n",
              "          + ' to learn more about interactive tables.';\n",
              "        element.innerHTML = '';\n",
              "        dataTable['output_type'] = 'display_data';\n",
              "        await google.colab.output.renderOutput(dataTable, element);\n",
              "        const docLink = document.createElement('div');\n",
              "        docLink.innerHTML = docLinkHtml;\n",
              "        element.appendChild(docLink);\n",
              "      }\n",
              "    </script>\n",
              "  </div>\n",
              "\n",
              "\n",
              "<div id=\"df-cf6e2117-0daa-41c6-a7c5-1a0ebc7834b1\">\n",
              "  <button class=\"colab-df-quickchart\" onclick=\"quickchart('df-cf6e2117-0daa-41c6-a7c5-1a0ebc7834b1')\"\n",
              "            title=\"Suggest charts\"\n",
              "            style=\"display:none;\">\n",
              "\n",
              "<svg xmlns=\"http://www.w3.org/2000/svg\" height=\"24px\"viewBox=\"0 0 24 24\"\n",
              "     width=\"24px\">\n",
              "    <g>\n",
              "        <path d=\"M19 3H5c-1.1 0-2 .9-2 2v14c0 1.1.9 2 2 2h14c1.1 0 2-.9 2-2V5c0-1.1-.9-2-2-2zM9 17H7v-7h2v7zm4 0h-2V7h2v10zm4 0h-2v-4h2v4z\"/>\n",
              "    </g>\n",
              "</svg>\n",
              "  </button>\n",
              "\n",
              "<style>\n",
              "  .colab-df-quickchart {\n",
              "      --bg-color: #E8F0FE;\n",
              "      --fill-color: #1967D2;\n",
              "      --hover-bg-color: #E2EBFA;\n",
              "      --hover-fill-color: #174EA6;\n",
              "      --disabled-fill-color: #AAA;\n",
              "      --disabled-bg-color: #DDD;\n",
              "  }\n",
              "\n",
              "  [theme=dark] .colab-df-quickchart {\n",
              "      --bg-color: #3B4455;\n",
              "      --fill-color: #D2E3FC;\n",
              "      --hover-bg-color: #434B5C;\n",
              "      --hover-fill-color: #FFFFFF;\n",
              "      --disabled-bg-color: #3B4455;\n",
              "      --disabled-fill-color: #666;\n",
              "  }\n",
              "\n",
              "  .colab-df-quickchart {\n",
              "    background-color: var(--bg-color);\n",
              "    border: none;\n",
              "    border-radius: 50%;\n",
              "    cursor: pointer;\n",
              "    display: none;\n",
              "    fill: var(--fill-color);\n",
              "    height: 32px;\n",
              "    padding: 0;\n",
              "    width: 32px;\n",
              "  }\n",
              "\n",
              "  .colab-df-quickchart:hover {\n",
              "    background-color: var(--hover-bg-color);\n",
              "    box-shadow: 0 1px 2px rgba(60, 64, 67, 0.3), 0 1px 3px 1px rgba(60, 64, 67, 0.15);\n",
              "    fill: var(--button-hover-fill-color);\n",
              "  }\n",
              "\n",
              "  .colab-df-quickchart-complete:disabled,\n",
              "  .colab-df-quickchart-complete:disabled:hover {\n",
              "    background-color: var(--disabled-bg-color);\n",
              "    fill: var(--disabled-fill-color);\n",
              "    box-shadow: none;\n",
              "  }\n",
              "\n",
              "  .colab-df-spinner {\n",
              "    border: 2px solid var(--fill-color);\n",
              "    border-color: transparent;\n",
              "    border-bottom-color: var(--fill-color);\n",
              "    animation:\n",
              "      spin 1s steps(1) infinite;\n",
              "  }\n",
              "\n",
              "  @keyframes spin {\n",
              "    0% {\n",
              "      border-color: transparent;\n",
              "      border-bottom-color: var(--fill-color);\n",
              "      border-left-color: var(--fill-color);\n",
              "    }\n",
              "    20% {\n",
              "      border-color: transparent;\n",
              "      border-left-color: var(--fill-color);\n",
              "      border-top-color: var(--fill-color);\n",
              "    }\n",
              "    30% {\n",
              "      border-color: transparent;\n",
              "      border-left-color: var(--fill-color);\n",
              "      border-top-color: var(--fill-color);\n",
              "      border-right-color: var(--fill-color);\n",
              "    }\n",
              "    40% {\n",
              "      border-color: transparent;\n",
              "      border-right-color: var(--fill-color);\n",
              "      border-top-color: var(--fill-color);\n",
              "    }\n",
              "    60% {\n",
              "      border-color: transparent;\n",
              "      border-right-color: var(--fill-color);\n",
              "    }\n",
              "    80% {\n",
              "      border-color: transparent;\n",
              "      border-right-color: var(--fill-color);\n",
              "      border-bottom-color: var(--fill-color);\n",
              "    }\n",
              "    90% {\n",
              "      border-color: transparent;\n",
              "      border-bottom-color: var(--fill-color);\n",
              "    }\n",
              "  }\n",
              "</style>\n",
              "\n",
              "  <script>\n",
              "    async function quickchart(key) {\n",
              "      const quickchartButtonEl =\n",
              "        document.querySelector('#' + key + ' button');\n",
              "      quickchartButtonEl.disabled = true;  // To prevent multiple clicks.\n",
              "      quickchartButtonEl.classList.add('colab-df-spinner');\n",
              "      try {\n",
              "        const charts = await google.colab.kernel.invokeFunction(\n",
              "            'suggestCharts', [key], {});\n",
              "      } catch (error) {\n",
              "        console.error('Error during call to suggestCharts:', error);\n",
              "      }\n",
              "      quickchartButtonEl.classList.remove('colab-df-spinner');\n",
              "      quickchartButtonEl.classList.add('colab-df-quickchart-complete');\n",
              "    }\n",
              "    (() => {\n",
              "      let quickchartButtonEl =\n",
              "        document.querySelector('#df-cf6e2117-0daa-41c6-a7c5-1a0ebc7834b1 button');\n",
              "      quickchartButtonEl.style.display =\n",
              "        google.colab.kernel.accessAllowed ? 'block' : 'none';\n",
              "    })();\n",
              "  </script>\n",
              "</div>\n",
              "\n",
              "    </div>\n",
              "  </div>\n"
            ],
            "application/vnd.google.colaboratory.intrinsic+json": {
              "type": "dataframe",
              "variable_name": "df",
              "summary": "{\n  \"name\": \"df\",\n  \"rows\": 100000,\n  \"fields\": [\n    {\n      \"column\": \"d\",\n      \"properties\": {\n        \"dtype\": \"number\",\n        \"std\": 1.384363830587504e-09,\n        \"min\": 1.0002712971111618e-10,\n        \"max\": 4.999961007284534e-09,\n        \"num_unique_values\": 96001,\n        \"samples\": [\n          1.408598607172865e-09,\n          2.571425216381846e-09,\n          4.506738837992362e-09\n        ],\n        \"semantic_type\": \"\",\n        \"description\": \"\"\n      }\n    },\n    {\n      \"column\": \"B\",\n      \"properties\": {\n        \"dtype\": \"number\",\n        \"std\": 2.8279729406281198,\n        \"min\": 4.778609163147429e-05,\n        \"max\": 9.999893848262149,\n        \"num_unique_values\": 96001,\n        \"samples\": [\n          7.5783546162694195,\n          8.175830240544682,\n          8.432962709661235\n        ],\n        \"semantic_type\": \"\",\n        \"description\": \"\"\n      }\n    },\n    {\n      \"column\": \"Q\",\n      \"properties\": {\n        \"dtype\": \"number\",\n        \"std\": 1.2732273335496853,\n        \"min\": 0.5000103418217814,\n        \"max\": 4.99990667638389,\n        \"num_unique_values\": 96001,\n        \"samples\": [\n          0.7623654321893065,\n          0.9504095693554092,\n          0.948342697713746\n        ],\n        \"semantic_type\": \"\",\n        \"description\": \"\"\n      }\n    },\n    {\n      \"column\": \"dT\",\n      \"properties\": {\n        \"dtype\": \"number\",\n        \"std\": 28.274229092921527,\n        \"min\": 0.0002227295707202,\n        \"max\": 99.99946092561706,\n        \"num_unique_values\": 96001,\n        \"samples\": [\n          60.36236064897926,\n          5.850536333860501,\n          51.85673825571461\n        ],\n        \"semantic_type\": \"\",\n        \"description\": \"\"\n      }\n    },\n    {\n      \"column\": \"E\",\n      \"properties\": {\n        \"dtype\": \"number\",\n        \"std\": 290.64628826342823,\n        \"min\": -7995.255637712148,\n        \"max\": 9240.25506492631,\n        \"num_unique_values\": 96001,\n        \"samples\": [\n          -0.4051415439792774,\n          -6.963934363586306,\n          73.53375007288632\n        ],\n        \"semantic_type\": \"\",\n        \"description\": \"\"\n      }\n    }\n  ]\n}"
            }
          },
          "metadata": {},
          "execution_count": 85
        }
      ]
    },
    {
      "cell_type": "markdown",
      "source": [
        "###Membrane Thickness(d)\n",
        "**Conclusions**\n",
        "\n",
        "-Normally distributed\n",
        "\n",
        "-4% values are missing\n",
        "\n",
        "-No outliers"
      ],
      "metadata": {
        "id": "XeK4UwIViOVL"
      }
    },
    {
      "cell_type": "code",
      "source": [
        "df['d'].describe()"
      ],
      "metadata": {
        "colab": {
          "base_uri": "https://localhost:8080/",
          "height": 346
        },
        "id": "ZiPs0DL9YZFQ",
        "outputId": "b7353e20-5af9-4bf2-ee96-371fdaedbc7f"
      },
      "execution_count": 86,
      "outputs": [
        {
          "output_type": "execute_result",
          "data": {
            "text/plain": [
              "count    1.000000e+05\n",
              "mean     2.546699e-09\n",
              "std      1.384364e-09\n",
              "min      1.000271e-10\n",
              "25%      1.373518e-09\n",
              "50%      2.546699e-09\n",
              "75%      3.716723e-09\n",
              "max      4.999961e-09\n",
              "Name: d, dtype: float64"
            ],
            "text/html": [
              "<div>\n",
              "<style scoped>\n",
              "    .dataframe tbody tr th:only-of-type {\n",
              "        vertical-align: middle;\n",
              "    }\n",
              "\n",
              "    .dataframe tbody tr th {\n",
              "        vertical-align: top;\n",
              "    }\n",
              "\n",
              "    .dataframe thead th {\n",
              "        text-align: right;\n",
              "    }\n",
              "</style>\n",
              "<table border=\"1\" class=\"dataframe\">\n",
              "  <thead>\n",
              "    <tr style=\"text-align: right;\">\n",
              "      <th></th>\n",
              "      <th>d</th>\n",
              "    </tr>\n",
              "  </thead>\n",
              "  <tbody>\n",
              "    <tr>\n",
              "      <th>count</th>\n",
              "      <td>1.000000e+05</td>\n",
              "    </tr>\n",
              "    <tr>\n",
              "      <th>mean</th>\n",
              "      <td>2.546699e-09</td>\n",
              "    </tr>\n",
              "    <tr>\n",
              "      <th>std</th>\n",
              "      <td>1.384364e-09</td>\n",
              "    </tr>\n",
              "    <tr>\n",
              "      <th>min</th>\n",
              "      <td>1.000271e-10</td>\n",
              "    </tr>\n",
              "    <tr>\n",
              "      <th>25%</th>\n",
              "      <td>1.373518e-09</td>\n",
              "    </tr>\n",
              "    <tr>\n",
              "      <th>50%</th>\n",
              "      <td>2.546699e-09</td>\n",
              "    </tr>\n",
              "    <tr>\n",
              "      <th>75%</th>\n",
              "      <td>3.716723e-09</td>\n",
              "    </tr>\n",
              "    <tr>\n",
              "      <th>max</th>\n",
              "      <td>4.999961e-09</td>\n",
              "    </tr>\n",
              "  </tbody>\n",
              "</table>\n",
              "</div><br><label><b>dtype:</b> float64</label>"
            ]
          },
          "metadata": {},
          "execution_count": 86
        }
      ]
    },
    {
      "cell_type": "code",
      "source": [
        "df['d'].plot(kind='hist',bins=20)"
      ],
      "metadata": {
        "colab": {
          "base_uri": "https://localhost:8080/",
          "height": 485
        },
        "id": "laTLWaQOY1mX",
        "outputId": "3ea68020-1b99-48e5-b7ef-cf68191cc870"
      },
      "execution_count": 87,
      "outputs": [
        {
          "output_type": "execute_result",
          "data": {
            "text/plain": [
              "<Axes: ylabel='Frequency'>"
            ]
          },
          "metadata": {},
          "execution_count": 87
        },
        {
          "output_type": "display_data",
          "data": {
            "text/plain": [
              "<Figure size 640x480 with 1 Axes>"
            ],
            "image/png": "[encoded data removed]"
          },
          "metadata": {}
        }
      ]
    },
    {
      "cell_type": "code",
      "source": [
        "df['d'].plot(kind='kde')"
      ],
      "metadata": {
        "colab": {
          "base_uri": "https://localhost:8080/",
          "height": 500
        },
        "id": "VNoolJ7fZiMO",
        "outputId": "7cfa3c3e-d04f-4cc3-dc8e-46c3a2bf265a"
      },
      "execution_count": 88,
      "outputs": [
        {
          "output_type": "execute_result",
          "data": {
            "text/plain": [
              "<Axes: ylabel='Density'>"
            ]
          },
          "metadata": {},
          "execution_count": 88
        },
        {
          "output_type": "display_data",
          "data": {
            "text/plain": [
              "<Figure size 640x480 with 1 Axes>"
            ],
            "image/png": "[encoded data removed]"
          },
          "metadata": {}
        }
      ]
    },
    {
      "cell_type": "code",
      "source": [
        "df['d'].skew()"
      ],
      "metadata": {
        "colab": {
          "base_uri": "https://localhost:8080/"
        },
        "id": "rcvGrdYlZ0_5",
        "outputId": "935e79b3-87f3-49dc-d26a-172e4d856056"
      },
      "execution_count": 89,
      "outputs": [
        {
          "output_type": "execute_result",
          "data": {
            "text/plain": [
              "0.0"
            ]
          },
          "metadata": {},
          "execution_count": 89
        }
      ]
    },
    {
      "cell_type": "code",
      "source": [
        "df['d'].plot(kind='box')"
      ],
      "metadata": {
        "colab": {
          "base_uri": "https://localhost:8080/",
          "height": 482
        },
        "id": "63ZQk4GxcikY",
        "outputId": "53ca0428-ca5d-4236-e245-5e3a48db8d15"
      },
      "execution_count": 90,
      "outputs": [
        {
          "output_type": "execute_result",
          "data": {
            "text/plain": [
              "<Axes: >"
            ]
          },
          "metadata": {},
          "execution_count": 90
        },
        {
          "output_type": "display_data",
          "data": {
            "text/plain": [
              "<Figure size 640x480 with 1 Axes>"
            ],
            "image/png": "[encoded data removed]"
          },
          "metadata": {}
        }
      ]
    },
    {
      "cell_type": "code",
      "source": [
        "df['d'].isnull().sum()/len(df['d'])"
      ],
      "metadata": {
        "colab": {
          "base_uri": "https://localhost:8080/"
        },
        "id": "yrlKabtsdYI1",
        "outputId": "994d3b7e-fac4-4a0f-81ce-2774bce12126"
      },
      "execution_count": 91,
      "outputs": [
        {
          "output_type": "execute_result",
          "data": {
            "text/plain": [
              "0.0"
            ]
          },
          "metadata": {},
          "execution_count": 91
        }
      ]
    },
    {
      "cell_type": "markdown",
      "source": [
        "###Energy Flux(E)\n",
        "**Conclusions**\n",
        "\n",
        "- +vely skewed\n",
        "- outliers present\n",
        "- 4% missing values"
      ],
      "metadata": {
        "id": "T82MEqK7jC1g"
      }
    },
    {
      "cell_type": "code",
      "source": [
        "df['E'].describe()"
      ],
      "metadata": {
        "colab": {
          "base_uri": "https://localhost:8080/",
          "height": 346
        },
        "id": "z_DlMUTvjCJt",
        "outputId": "e9af03c4-1514-42c2-c38f-06d74bd654bf"
      },
      "execution_count": 92,
      "outputs": [
        {
          "output_type": "execute_result",
          "data": {
            "text/plain": [
              "count    100000.000000\n",
              "mean          5.008998\n",
              "std         290.646288\n",
              "min       -7995.255638\n",
              "25%          -2.673292\n",
              "50%           0.418462\n",
              "75%           4.925930\n",
              "max        9240.255065\n",
              "Name: E, dtype: float64"
            ],
            "text/html": [
              "<div>\n",
              "<style scoped>\n",
              "    .dataframe tbody tr th:only-of-type {\n",
              "        vertical-align: middle;\n",
              "    }\n",
              "\n",
              "    .dataframe tbody tr th {\n",
              "        vertical-align: top;\n",
              "    }\n",
              "\n",
              "    .dataframe thead th {\n",
              "        text-align: right;\n",
              "    }\n",
              "</style>\n",
              "<table border=\"1\" class=\"dataframe\">\n",
              "  <thead>\n",
              "    <tr style=\"text-align: right;\">\n",
              "      <th></th>\n",
              "      <th>E</th>\n",
              "    </tr>\n",
              "  </thead>\n",
              "  <tbody>\n",
              "    <tr>\n",
              "      <th>count</th>\n",
              "      <td>100000.000000</td>\n",
              "    </tr>\n",
              "    <tr>\n",
              "      <th>mean</th>\n",
              "      <td>5.008998</td>\n",
              "    </tr>\n",
              "    <tr>\n",
              "      <th>std</th>\n",
              "      <td>290.646288</td>\n",
              "    </tr>\n",
              "    <tr>\n",
              "      <th>min</th>\n",
              "      <td>-7995.255638</td>\n",
              "    </tr>\n",
              "    <tr>\n",
              "      <th>25%</th>\n",
              "      <td>-2.673292</td>\n",
              "    </tr>\n",
              "    <tr>\n",
              "      <th>50%</th>\n",
              "      <td>0.418462</td>\n",
              "    </tr>\n",
              "    <tr>\n",
              "      <th>75%</th>\n",
              "      <td>4.925930</td>\n",
              "    </tr>\n",
              "    <tr>\n",
              "      <th>max</th>\n",
              "      <td>9240.255065</td>\n",
              "    </tr>\n",
              "  </tbody>\n",
              "</table>\n",
              "</div><br><label><b>dtype:</b> float64</label>"
            ]
          },
          "metadata": {},
          "execution_count": 92
        }
      ]
    },
    {
      "cell_type": "code",
      "source": [
        "df['E'].plot(kind='hist',bins=30)"
      ],
      "metadata": {
        "colab": {
          "base_uri": "https://localhost:8080/",
          "height": 466
        },
        "id": "Aju0Fs6wjR42",
        "outputId": "24b9fb20-5267-416b-88d8-de883abf136a"
      },
      "execution_count": 93,
      "outputs": [
        {
          "output_type": "execute_result",
          "data": {
            "text/plain": [
              "<Axes: ylabel='Frequency'>"
            ]
          },
          "metadata": {},
          "execution_count": 93
        },
        {
          "output_type": "display_data",
          "data": {
            "text/plain": [
              "<Figure size 640x480 with 1 Axes>"
            ],
            "image/png": "[encoded data removed]"
          },
          "metadata": {}
        }
      ]
    },
    {
      "cell_type": "code",
      "source": [
        "df['E'].plot(kind='kde')"
      ],
      "metadata": {
        "colab": {
          "base_uri": "https://localhost:8080/",
          "height": 466
        },
        "id": "FlgI65jykDMW",
        "outputId": "75188e64-a23b-489f-c6de-f7f06581333d"
      },
      "execution_count": 94,
      "outputs": [
        {
          "output_type": "execute_result",
          "data": {
            "text/plain": [
              "<Axes: ylabel='Density'>"
            ]
          },
          "metadata": {},
          "execution_count": 94
        },
        {
          "output_type": "display_data",
          "data": {
            "text/plain": [
              "<Figure size 640x480 with 1 Axes>"
            ],
            "image/png": "[encoded data removed]"
          },
          "metadata": {}
        }
      ]
    },
    {
      "cell_type": "code",
      "source": [
        "df['E'].skew()"
      ],
      "metadata": {
        "colab": {
          "base_uri": "https://localhost:8080/"
        },
        "id": "6k9FOaKCkJAH",
        "outputId": "7b18b7f1-2382-45fe-81e7-583cd59eabb3"
      },
      "execution_count": 95,
      "outputs": [
        {
          "output_type": "execute_result",
          "data": {
            "text/plain": [
              "1.7722057331107834"
            ]
          },
          "metadata": {},
          "execution_count": 95
        }
      ]
    },
    {
      "cell_type": "code",
      "source": [
        "df['E'].plot(kind='box')"
      ],
      "metadata": {
        "colab": {
          "base_uri": "https://localhost:8080/",
          "height": 470
        },
        "id": "ShtZ1pirkMr6",
        "outputId": "c6e9cdab-2f06-4396-fd53-9b378e1aae6f"
      },
      "execution_count": 96,
      "outputs": [
        {
          "output_type": "execute_result",
          "data": {
            "text/plain": [
              "<Axes: >"
            ]
          },
          "metadata": {},
          "execution_count": 96
        },
        {
          "output_type": "display_data",
          "data": {
            "text/plain": [
              "<Figure size 640x480 with 1 Axes>"
            ],
            "image/png": "[encoded data removed]"
          },
          "metadata": {}
        }
      ]
    },
    {
      "cell_type": "code",
      "source": [
        "df[df['E']>7500]"
      ],
      "metadata": {
        "colab": {
          "base_uri": "https://localhost:8080/",
          "height": 282
        },
        "id": "Ge5heaU-lp1n",
        "outputId": "f7ee8471-1ec2-421f-c2b6-f1582fa7f9bc"
      },
      "execution_count": 97,
      "outputs": [
        {
          "output_type": "execute_result",
          "data": {
            "text/plain": [
              "                  d         B         Q         dT            E\n",
              "7007   2.546699e-09  3.121206  4.672631  87.172674  9240.255065\n",
              "35903  1.043205e-10  9.523061  3.495239  94.091087  7970.247334\n",
              "47968  1.070011e-10  3.129973  4.368558  91.844663  8233.308396\n",
              "76191  1.068024e-10  2.226620  3.397474  98.283008  7997.021609\n",
              "78965  1.168432e-10  1.630828  4.861934  91.427508  7773.328743\n",
              "79826  1.026421e-10  2.294814  3.603316  98.195289  7894.880171\n",
              "87555  1.017237e-10  9.059327  4.978489  78.512165  7684.597562"
            ],
            "text/html": [
              "\n",
              "  <div id=\"df-35873478-ac70-4a08-95b8-67bb7cf7b608\" class=\"colab-df-container\">\n",
              "    <div>\n",
              "<style scoped>\n",
              "    .dataframe tbody tr th:only-of-type {\n",
              "        vertical-align: middle;\n",
              "    }\n",
              "\n",
              "    .dataframe tbody tr th {\n",
              "        vertical-align: top;\n",
              "    }\n",
              "\n",
              "    .dataframe thead th {\n",
              "        text-align: right;\n",
              "    }\n",
              "</style>\n",
              "<table border=\"1\" class=\"dataframe\">\n",
              "  <thead>\n",
              "    <tr style=\"text-align: right;\">\n",
              "      <th></th>\n",
              "      <th>d</th>\n",
              "      <th>B</th>\n",
              "      <th>Q</th>\n",
              "      <th>dT</th>\n",
              "      <th>E</th>\n",
              "    </tr>\n",
              "  </thead>\n",
              "  <tbody>\n",
              "    <tr>\n",
              "      <th>7007</th>\n",
              "      <td>2.546699e-09</td>\n",
              "      <td>3.121206</td>\n",
              "      <td>4.672631</td>\n",
              "      <td>87.172674</td>\n",
              "      <td>9240.255065</td>\n",
              "    </tr>\n",
              "    <tr>\n",
              "      <th>35903</th>\n",
              "      <td>1.043205e-10</td>\n",
              "      <td>9.523061</td>\n",
              "      <td>3.495239</td>\n",
              "      <td>94.091087</td>\n",
              "      <td>7970.247334</td>\n",
              "    </tr>\n",
              "    <tr>\n",
              "      <th>47968</th>\n",
              "      <td>1.070011e-10</td>\n",
              "      <td>3.129973</td>\n",
              "      <td>4.368558</td>\n",
              "      <td>91.844663</td>\n",
              "      <td>8233.308396</td>\n",
              "    </tr>\n",
              "    <tr>\n",
              "      <th>76191</th>\n",
              "      <td>1.068024e-10</td>\n",
              "      <td>2.226620</td>\n",
              "      <td>3.397474</td>\n",
              "      <td>98.283008</td>\n",
              "      <td>7997.021609</td>\n",
              "    </tr>\n",
              "    <tr>\n",
              "      <th>78965</th>\n",
              "      <td>1.168432e-10</td>\n",
              "      <td>1.630828</td>\n",
              "      <td>4.861934</td>\n",
              "      <td>91.427508</td>\n",
              "      <td>7773.328743</td>\n",
              "    </tr>\n",
              "    <tr>\n",
              "      <th>79826</th>\n",
              "      <td>1.026421e-10</td>\n",
              "      <td>2.294814</td>\n",
              "      <td>3.603316</td>\n",
              "      <td>98.195289</td>\n",
              "      <td>7894.880171</td>\n",
              "    </tr>\n",
              "    <tr>\n",
              "      <th>87555</th>\n",
              "      <td>1.017237e-10</td>\n",
              "      <td>9.059327</td>\n",
              "      <td>4.978489</td>\n",
              "      <td>78.512165</td>\n",
              "      <td>7684.597562</td>\n",
              "    </tr>\n",
              "  </tbody>\n",
              "</table>\n",
              "</div>\n",
              "    <div class=\"colab-df-buttons\">\n",
              "\n",
              "  <div class=\"colab-df-container\">\n",
              "    <button class=\"colab-df-convert\" onclick=\"convertToInteractive('df-35873478-ac70-4a08-95b8-67bb7cf7b608')\"\n",
              "            title=\"Convert this dataframe to an interactive table.\"\n",
              "            style=\"display:none;\">\n",
              "\n",
              "  <svg xmlns=\"http://www.w3.org/2000/svg\" height=\"24px\" viewBox=\"0 -960 960 960\">\n",
              "    <path d=\"M120-120v-720h720v720H120Zm60-500h600v-160H180v160Zm220 220h160v-160H400v160Zm0 220h160v-160H400v160ZM180-400h160v-160H180v160Zm440 0h160v-160H620v160ZM180-180h160v-160H180v160Zm440 0h160v-160H620v160Z\"/>\n",
              "  </svg>\n",
              "    </button>\n",
              "\n",
              "  <style>\n",
              "    .colab-df-container {\n",
              "      display:flex;\n",
              "      gap: 12px;\n",
              "    }\n",
              "\n",
              "    .colab-df-convert {\n",
              "      background-color: #E8F0FE;\n",
              "      border: none;\n",
              "      border-radius: 50%;\n",
              "      cursor: pointer;\n",
              "      display: none;\n",
              "      fill: #1967D2;\n",
              "      height: 32px;\n",
              "      padding: 0 0 0 0;\n",
              "      width: 32px;\n",
              "    }\n",
              "\n",
              "    .colab-df-convert:hover {\n",
              "      background-color: #E2EBFA;\n",
              "      box-shadow: 0px 1px 2px rgba(60, 64, 67, 0.3), 0px 1px 3px 1px rgba(60, 64, 67, 0.15);\n",
              "      fill: #174EA6;\n",
              "    }\n",
              "\n",
              "    .colab-df-buttons div {\n",
              "      margin-bottom: 4px;\n",
              "    }\n",
              "\n",
              "    [theme=dark] .colab-df-convert {\n",
              "      background-color: #3B4455;\n",
              "      fill: #D2E3FC;\n",
              "    }\n",
              "\n",
              "    [theme=dark] .colab-df-convert:hover {\n",
              "      background-color: #434B5C;\n",
              "      box-shadow: 0px 1px 3px 1px rgba(0, 0, 0, 0.15);\n",
              "      filter: drop-shadow(0px 1px 2px rgba(0, 0, 0, 0.3));\n",
              "      fill: #FFFFFF;\n",
              "    }\n",
              "  </style>\n",
              "\n",
              "    <script>\n",
              "      const buttonEl =\n",
              "        document.querySelector('#df-35873478-ac70-4a08-95b8-67bb7cf7b608 button.colab-df-convert');\n",
              "      buttonEl.style.display =\n",
              "        google.colab.kernel.accessAllowed ? 'block' : 'none';\n",
              "\n",
              "      async function convertToInteractive(key) {\n",
              "        const element = document.querySelector('#df-35873478-ac70-4a08-95b8-67bb7cf7b608');\n",
              "        const dataTable =\n",
              "          await google.colab.kernel.invokeFunction('convertToInteractive',\n",
              "                                                    [key], {});\n",
              "        if (!dataTable) return;\n",
              "\n",
              "        const docLinkHtml = 'Like what you see? Visit the ' +\n",
              "          '<a target=\"_blank\" href=https://colab.research.google.com/notebooks/data_table.ipynb>data table notebook</a>'\n",
              "          + ' to learn more about interactive tables.';\n",
              "        element.innerHTML = '';\n",
              "        dataTable['output_type'] = 'display_data';\n",
              "        await google.colab.output.renderOutput(dataTable, element);\n",
              "        const docLink = document.createElement('div');\n",
              "        docLink.innerHTML = docLinkHtml;\n",
              "        element.appendChild(docLink);\n",
              "      }\n",
              "    </script>\n",
              "  </div>\n",
              "\n",
              "\n",
              "<div id=\"df-dbc4c44b-d9b4-4609-b890-4cf8eb038ec9\">\n",
              "  <button class=\"colab-df-quickchart\" onclick=\"quickchart('df-dbc4c44b-d9b4-4609-b890-4cf8eb038ec9')\"\n",
              "            title=\"Suggest charts\"\n",
              "            style=\"display:none;\">\n",
              "\n",
              "<svg xmlns=\"http://www.w3.org/2000/svg\" height=\"24px\"viewBox=\"0 0 24 24\"\n",
              "     width=\"24px\">\n",
              "    <g>\n",
              "        <path d=\"M19 3H5c-1.1 0-2 .9-2 2v14c0 1.1.9 2 2 2h14c1.1 0 2-.9 2-2V5c0-1.1-.9-2-2-2zM9 17H7v-7h2v7zm4 0h-2V7h2v10zm4 0h-2v-4h2v4z\"/>\n",
              "    </g>\n",
              "</svg>\n",
              "  </button>\n",
              "\n",
              "<style>\n",
              "  .colab-df-quickchart {\n",
              "      --bg-color: #E8F0FE;\n",
              "      --fill-color: #1967D2;\n",
              "      --hover-bg-color: #E2EBFA;\n",
              "      --hover-fill-color: #174EA6;\n",
              "      --disabled-fill-color: #AAA;\n",
              "      --disabled-bg-color: #DDD;\n",
              "  }\n",
              "\n",
              "  [theme=dark] .colab-df-quickchart {\n",
              "      --bg-color: #3B4455;\n",
              "      --fill-color: #D2E3FC;\n",
              "      --hover-bg-color: #434B5C;\n",
              "      --hover-fill-color: #FFFFFF;\n",
              "      --disabled-bg-color: #3B4455;\n",
              "      --disabled-fill-color: #666;\n",
              "  }\n",
              "\n",
              "  .colab-df-quickchart {\n",
              "    background-color: var(--bg-color);\n",
              "    border: none;\n",
              "    border-radius: 50%;\n",
              "    cursor: pointer;\n",
              "    display: none;\n",
              "    fill: var(--fill-color);\n",
              "    height: 32px;\n",
              "    padding: 0;\n",
              "    width: 32px;\n",
              "  }\n",
              "\n",
              "  .colab-df-quickchart:hover {\n",
              "    background-color: var(--hover-bg-color);\n",
              "    box-shadow: 0 1px 2px rgba(60, 64, 67, 0.3), 0 1px 3px 1px rgba(60, 64, 67, 0.15);\n",
              "    fill: var(--button-hover-fill-color);\n",
              "  }\n",
              "\n",
              "  .colab-df-quickchart-complete:disabled,\n",
              "  .colab-df-quickchart-complete:disabled:hover {\n",
              "    background-color: var(--disabled-bg-color);\n",
              "    fill: var(--disabled-fill-color);\n",
              "    box-shadow: none;\n",
              "  }\n",
              "\n",
              "  .colab-df-spinner {\n",
              "    border: 2px solid var(--fill-color);\n",
              "    border-color: transparent;\n",
              "    border-bottom-color: var(--fill-color);\n",
              "    animation:\n",
              "      spin 1s steps(1) infinite;\n",
              "  }\n",
              "\n",
              "  @keyframes spin {\n",
              "    0% {\n",
              "      border-color: transparent;\n",
              "      border-bottom-color: var(--fill-color);\n",
              "      border-left-color: var(--fill-color);\n",
              "    }\n",
              "    20% {\n",
              "      border-color: transparent;\n",
              "      border-left-color: var(--fill-color);\n",
              "      border-top-color: var(--fill-color);\n",
              "    }\n",
              "    30% {\n",
              "      border-color: transparent;\n",
              "      border-left-color: var(--fill-color);\n",
              "      border-top-color: var(--fill-color);\n",
              "      border-right-color: var(--fill-color);\n",
              "    }\n",
              "    40% {\n",
              "      border-color: transparent;\n",
              "      border-right-color: var(--fill-color);\n",
              "      border-top-color: var(--fill-color);\n",
              "    }\n",
              "    60% {\n",
              "      border-color: transparent;\n",
              "      border-right-color: var(--fill-color);\n",
              "    }\n",
              "    80% {\n",
              "      border-color: transparent;\n",
              "      border-right-color: var(--fill-color);\n",
              "      border-bottom-color: var(--fill-color);\n",
              "    }\n",
              "    90% {\n",
              "      border-color: transparent;\n",
              "      border-bottom-color: var(--fill-color);\n",
              "    }\n",
              "  }\n",
              "</style>\n",
              "\n",
              "  <script>\n",
              "    async function quickchart(key) {\n",
              "      const quickchartButtonEl =\n",
              "        document.querySelector('#' + key + ' button');\n",
              "      quickchartButtonEl.disabled = true;  // To prevent multiple clicks.\n",
              "      quickchartButtonEl.classList.add('colab-df-spinner');\n",
              "      try {\n",
              "        const charts = await google.colab.kernel.invokeFunction(\n",
              "            'suggestCharts', [key], {});\n",
              "      } catch (error) {\n",
              "        console.error('Error during call to suggestCharts:', error);\n",
              "      }\n",
              "      quickchartButtonEl.classList.remove('colab-df-spinner');\n",
              "      quickchartButtonEl.classList.add('colab-df-quickchart-complete');\n",
              "    }\n",
              "    (() => {\n",
              "      let quickchartButtonEl =\n",
              "        document.querySelector('#df-dbc4c44b-d9b4-4609-b890-4cf8eb038ec9 button');\n",
              "      quickchartButtonEl.style.display =\n",
              "        google.colab.kernel.accessAllowed ? 'block' : 'none';\n",
              "    })();\n",
              "  </script>\n",
              "</div>\n",
              "\n",
              "    </div>\n",
              "  </div>\n"
            ],
            "application/vnd.google.colaboratory.intrinsic+json": {
              "type": "dataframe",
              "summary": "{\n  \"name\": \"df[df['E']>7500]\",\n  \"rows\": 7,\n  \"fields\": [\n    {\n      \"column\": \"d\",\n      \"properties\": {\n        \"dtype\": \"number\",\n        \"std\": 9.223009405184601e-10,\n        \"min\": 1.0172366503074263e-10,\n        \"max\": 2.5466986277348273e-09,\n        \"num_unique_values\": 7,\n        \"samples\": [\n          2.5466986277348273e-09,\n          1.0432046184979151e-10,\n          1.026421494961297e-10\n        ],\n        \"semantic_type\": \"\",\n        \"description\": \"\"\n      }\n    },\n    {\n      \"column\": \"B\",\n      \"properties\": {\n        \"dtype\": \"number\",\n        \"std\": 3.3670495972048338,\n        \"min\": 1.6308278130806386,\n        \"max\": 9.523060784311976,\n        \"num_unique_values\": 7,\n        \"samples\": [\n          3.1212064480865145,\n          9.523060784311976,\n          2.294813796559489\n        ],\n        \"semantic_type\": \"\",\n        \"description\": \"\"\n      }\n    },\n    {\n      \"column\": \"Q\",\n      \"properties\": {\n        \"dtype\": \"number\",\n        \"std\": 0.6822377847574128,\n        \"min\": 3.397473619969472,\n        \"max\": 4.978488863105926,\n        \"num_unique_values\": 7,\n        \"samples\": [\n          4.6726309543490965,\n          3.495239218782383,\n          3.603315522057155\n        ],\n        \"semantic_type\": \"\",\n        \"description\": \"\"\n      }\n    },\n    {\n      \"column\": \"dT\",\n      \"properties\": {\n        \"dtype\": \"number\",\n        \"std\": 6.891396184960827,\n        \"min\": 78.51216542352549,\n        \"max\": 98.28300798320907,\n        \"num_unique_values\": 7,\n        \"samples\": [\n          87.17267359953192,\n          94.0910866804723,\n          98.1952885139391\n        ],\n        \"semantic_type\": \"\",\n        \"description\": \"\"\n      }\n    },\n    {\n      \"column\": \"E\",\n      \"properties\": {\n        \"dtype\": \"number\",\n        \"std\": 526.8598611039808,\n        \"min\": 7684.597561511386,\n        \"max\": 9240.25506492631,\n        \"num_unique_values\": 7,\n        \"samples\": [\n          9240.25506492631,\n          7970.24733413773,\n          7894.880170836494\n        ],\n        \"semantic_type\": \"\",\n        \"description\": \"\"\n      }\n    }\n  ]\n}"
            }
          },
          "metadata": {},
          "execution_count": 97
        }
      ]
    },
    {
      "cell_type": "code",
      "source": [
        "df['E'].isnull().sum()/len(df['E'])"
      ],
      "metadata": {
        "colab": {
          "base_uri": "https://localhost:8080/"
        },
        "id": "JGLyguT3KcRn",
        "outputId": "a3a6137a-5d24-4343-c5f9-1184835c7ca3"
      },
      "execution_count": 98,
      "outputs": [
        {
          "output_type": "execute_result",
          "data": {
            "text/plain": [
              "0.0"
            ]
          },
          "metadata": {},
          "execution_count": 98
        }
      ]
    },
    {
      "cell_type": "code",
      "source": [
        "df['B'].describe()"
      ],
      "metadata": {
        "colab": {
          "base_uri": "https://localhost:8080/",
          "height": 346
        },
        "id": "i_Jj2awDMENR",
        "outputId": "45f29883-5799-4161-c0cd-c886cac90e21"
      },
      "execution_count": 99,
      "outputs": [
        {
          "output_type": "execute_result",
          "data": {
            "text/plain": [
              "count    100000.000000\n",
              "mean          5.013133\n",
              "std           2.827973\n",
              "min           0.000048\n",
              "25%           2.615430\n",
              "50%           5.013133\n",
              "75%           7.406696\n",
              "max           9.999894\n",
              "Name: B, dtype: float64"
            ],
            "text/html": [
              "<div>\n",
              "<style scoped>\n",
              "    .dataframe tbody tr th:only-of-type {\n",
              "        vertical-align: middle;\n",
              "    }\n",
              "\n",
              "    .dataframe tbody tr th {\n",
              "        vertical-align: top;\n",
              "    }\n",
              "\n",
              "    .dataframe thead th {\n",
              "        text-align: right;\n",
              "    }\n",
              "</style>\n",
              "<table border=\"1\" class=\"dataframe\">\n",
              "  <thead>\n",
              "    <tr style=\"text-align: right;\">\n",
              "      <th></th>\n",
              "      <th>B</th>\n",
              "    </tr>\n",
              "  </thead>\n",
              "  <tbody>\n",
              "    <tr>\n",
              "      <th>count</th>\n",
              "      <td>100000.000000</td>\n",
              "    </tr>\n",
              "    <tr>\n",
              "      <th>mean</th>\n",
              "      <td>5.013133</td>\n",
              "    </tr>\n",
              "    <tr>\n",
              "      <th>std</th>\n",
              "      <td>2.827973</td>\n",
              "    </tr>\n",
              "    <tr>\n",
              "      <th>min</th>\n",
              "      <td>0.000048</td>\n",
              "    </tr>\n",
              "    <tr>\n",
              "      <th>25%</th>\n",
              "      <td>2.615430</td>\n",
              "    </tr>\n",
              "    <tr>\n",
              "      <th>50%</th>\n",
              "      <td>5.013133</td>\n",
              "    </tr>\n",
              "    <tr>\n",
              "      <th>75%</th>\n",
              "      <td>7.406696</td>\n",
              "    </tr>\n",
              "    <tr>\n",
              "      <th>max</th>\n",
              "      <td>9.999894</td>\n",
              "    </tr>\n",
              "  </tbody>\n",
              "</table>\n",
              "</div><br><label><b>dtype:</b> float64</label>"
            ]
          },
          "metadata": {},
          "execution_count": 99
        }
      ]
    },
    {
      "cell_type": "code",
      "source": [
        "df['B'].plot(kind='hist',bins=30)"
      ],
      "metadata": {
        "colab": {
          "base_uri": "https://localhost:8080/",
          "height": 466
        },
        "id": "IzUSKPq-MYJj",
        "outputId": "224fac43-2b79-42bf-9676-df11ffc95d51"
      },
      "execution_count": 100,
      "outputs": [
        {
          "output_type": "execute_result",
          "data": {
            "text/plain": [
              "<Axes: ylabel='Frequency'>"
            ]
          },
          "metadata": {},
          "execution_count": 100
        },
        {
          "output_type": "display_data",
          "data": {
            "text/plain": [
              "<Figure size 640x480 with 1 Axes>"
            ],
            "image/png": "[encoded data removed]"
          },
          "metadata": {}
        }
      ]
    },
    {
      "cell_type": "code",
      "source": [
        "df['B'].plot(kind='kde')"
      ],
      "metadata": {
        "colab": {
          "base_uri": "https://localhost:8080/",
          "height": 471
        },
        "id": "lxC4DJOzMmag",
        "outputId": "2a4cc0af-2b5c-4620-c7f1-18ae29858bc5"
      },
      "execution_count": 101,
      "outputs": [
        {
          "output_type": "execute_result",
          "data": {
            "text/plain": [
              "<Axes: ylabel='Density'>"
            ]
          },
          "metadata": {},
          "execution_count": 101
        },
        {
          "output_type": "display_data",
          "data": {
            "text/plain": [
              "<Figure size 640x480 with 1 Axes>"
            ],
            "image/png": "[encoded data removed]"
          },
          "metadata": {}
        }
      ]
    },
    {
      "cell_type": "code",
      "source": [
        "df['B'].skew()"
      ],
      "metadata": {
        "colab": {
          "base_uri": "https://localhost:8080/"
        },
        "id": "nC34rvt7MqXj",
        "outputId": "b13a5998-f8fa-4bb5-d5c9-0c43bdc645d5"
      },
      "execution_count": 102,
      "outputs": [
        {
          "output_type": "execute_result",
          "data": {
            "text/plain": [
              "-0.004933610363789925"
            ]
          },
          "metadata": {},
          "execution_count": 102
        }
      ]
    },
    {
      "cell_type": "code",
      "source": [
        "df['B'].plot(kind='box')"
      ],
      "metadata": {
        "colab": {
          "base_uri": "https://localhost:8080/",
          "height": 466
        },
        "id": "KnKdJuzBNBV7",
        "outputId": "a98bfe8c-4d8e-4b62-9b98-38ae9b57bef2"
      },
      "execution_count": 103,
      "outputs": [
        {
          "output_type": "execute_result",
          "data": {
            "text/plain": [
              "<Axes: >"
            ]
          },
          "metadata": {},
          "execution_count": 103
        },
        {
          "output_type": "display_data",
          "data": {
            "text/plain": [
              "<Figure size 640x480 with 1 Axes>"
            ],
            "image/png": "[encoded data removed]"
          },
          "metadata": {}
        }
      ]
    },
    {
      "cell_type": "code",
      "source": [
        "df['B'].isnull().sum()/len(df['B'])"
      ],
      "metadata": {
        "colab": {
          "base_uri": "https://localhost:8080/"
        },
        "id": "Xprwwa8HNEPb",
        "outputId": "a15f878a-0f12-4fd9-9237-f4a10a0e606b"
      },
      "execution_count": 104,
      "outputs": [
        {
          "output_type": "execute_result",
          "data": {
            "text/plain": [
              "0.0"
            ]
          },
          "metadata": {},
          "execution_count": 104
        }
      ]
    },
    {
      "cell_type": "markdown",
      "source": [],
      "metadata": {
        "id": "eVSIedLeNU1u"
      }
    },
    {
      "cell_type": "code",
      "source": [
        "df['Q'].describe()"
      ],
      "metadata": {
        "colab": {
          "base_uri": "https://localhost:8080/",
          "height": 346
        },
        "id": "fu0xphAfNVUQ",
        "outputId": "ef6e90a0-e461-4218-d768-fe9c6b9788ea"
      },
      "execution_count": 105,
      "outputs": [
        {
          "output_type": "execute_result",
          "data": {
            "text/plain": [
              "count    100000.000000\n",
              "mean          2.752672\n",
              "std           1.273227\n",
              "min           0.500010\n",
              "25%           1.674125\n",
              "50%           2.752672\n",
              "75%           3.831206\n",
              "max           4.999907\n",
              "Name: Q, dtype: float64"
            ],
            "text/html": [
              "<div>\n",
              "<style scoped>\n",
              "    .dataframe tbody tr th:only-of-type {\n",
              "        vertical-align: middle;\n",
              "    }\n",
              "\n",
              "    .dataframe tbody tr th {\n",
              "        vertical-align: top;\n",
              "    }\n",
              "\n",
              "    .dataframe thead th {\n",
              "        text-align: right;\n",
              "    }\n",
              "</style>\n",
              "<table border=\"1\" class=\"dataframe\">\n",
              "  <thead>\n",
              "    <tr style=\"text-align: right;\">\n",
              "      <th></th>\n",
              "      <th>Q</th>\n",
              "    </tr>\n",
              "  </thead>\n",
              "  <tbody>\n",
              "    <tr>\n",
              "      <th>count</th>\n",
              "      <td>100000.000000</td>\n",
              "    </tr>\n",
              "    <tr>\n",
              "      <th>mean</th>\n",
              "      <td>2.752672</td>\n",
              "    </tr>\n",
              "    <tr>\n",
              "      <th>std</th>\n",
              "      <td>1.273227</td>\n",
              "    </tr>\n",
              "    <tr>\n",
              "      <th>min</th>\n",
              "      <td>0.500010</td>\n",
              "    </tr>\n",
              "    <tr>\n",
              "      <th>25%</th>\n",
              "      <td>1.674125</td>\n",
              "    </tr>\n",
              "    <tr>\n",
              "      <th>50%</th>\n",
              "      <td>2.752672</td>\n",
              "    </tr>\n",
              "    <tr>\n",
              "      <th>75%</th>\n",
              "      <td>3.831206</td>\n",
              "    </tr>\n",
              "    <tr>\n",
              "      <th>max</th>\n",
              "      <td>4.999907</td>\n",
              "    </tr>\n",
              "  </tbody>\n",
              "</table>\n",
              "</div><br><label><b>dtype:</b> float64</label>"
            ]
          },
          "metadata": {},
          "execution_count": 105
        }
      ]
    },
    {
      "cell_type": "code",
      "source": [
        "df['Q'].plot(kind='hist',bins=30)"
      ],
      "metadata": {
        "colab": {
          "base_uri": "https://localhost:8080/",
          "height": 466
        },
        "id": "mA7fxME6N7ly",
        "outputId": "1600efb3-fcf5-4b17-fc35-a3813e17af4b"
      },
      "execution_count": 106,
      "outputs": [
        {
          "output_type": "execute_result",
          "data": {
            "text/plain": [
              "<Axes: ylabel='Frequency'>"
            ]
          },
          "metadata": {},
          "execution_count": 106
        },
        {
          "output_type": "display_data",
          "data": {
            "text/plain": [
              "<Figure size 640x480 with 1 Axes>"
            ],
            "image/png": "[encoded data removed]"
          },
          "metadata": {}
        }
      ]
    },
    {
      "cell_type": "code",
      "source": [
        "df['Q'].plot(kind='kde')"
      ],
      "metadata": {
        "colab": {
          "base_uri": "https://localhost:8080/",
          "height": 466
        },
        "id": "sYQitHgIN-rF",
        "outputId": "f6a4ec58-7e33-4ece-d53b-f553b61cc63e"
      },
      "execution_count": 107,
      "outputs": [
        {
          "output_type": "execute_result",
          "data": {
            "text/plain": [
              "<Axes: ylabel='Density'>"
            ]
          },
          "metadata": {},
          "execution_count": 107
        },
        {
          "output_type": "display_data",
          "data": {
            "text/plain": [
              "<Figure size 640x480 with 1 Axes>"
            ],
            "image/png": "[encoded data removed]"
          },
          "metadata": {}
        }
      ]
    },
    {
      "cell_type": "code",
      "source": [
        "df['Q'].plot(kind='box')"
      ],
      "metadata": {
        "colab": {
          "base_uri": "https://localhost:8080/",
          "height": 466
        },
        "id": "-5ojrSiKOCDy",
        "outputId": "0b8561f9-a1dd-43e6-8e44-b177538968fd"
      },
      "execution_count": 108,
      "outputs": [
        {
          "output_type": "execute_result",
          "data": {
            "text/plain": [
              "<Axes: >"
            ]
          },
          "metadata": {},
          "execution_count": 108
        },
        {
          "output_type": "display_data",
          "data": {
            "text/plain": [
              "<Figure size 640x480 with 1 Axes>"
            ],
            "image/png": "[encoded data removed]"
          },
          "metadata": {}
        }
      ]
    },
    {
      "cell_type": "code",
      "source": [
        "df['Q'].isnull().sum()/len(df['Q'])"
      ],
      "metadata": {
        "colab": {
          "base_uri": "https://localhost:8080/"
        },
        "id": "CAucbNamOPyZ",
        "outputId": "cb1425f7-4a90-4315-e250-d88812b58fbb"
      },
      "execution_count": 109,
      "outputs": [
        {
          "output_type": "execute_result",
          "data": {
            "text/plain": [
              "0.0"
            ]
          },
          "metadata": {},
          "execution_count": 109
        }
      ]
    },
    {
      "cell_type": "markdown",
      "source": [],
      "metadata": {
        "id": "3MHZj7G3PKim"
      }
    },
    {
      "cell_type": "code",
      "source": [
        "df['dT'].describe()"
      ],
      "metadata": {
        "colab": {
          "base_uri": "https://localhost:8080/",
          "height": 346
        },
        "id": "nooOTBIYPJ17",
        "outputId": "945c7c1f-48c1-4e9b-8db4-b05c4c806005"
      },
      "execution_count": 110,
      "outputs": [
        {
          "output_type": "execute_result",
          "data": {
            "text/plain": [
              "count    100000.000000\n",
              "mean         49.935217\n",
              "std          28.274229\n",
              "min           0.000223\n",
              "25%          26.003391\n",
              "50%          49.935217\n",
              "75%          73.932487\n",
              "max          99.999461\n",
              "Name: dT, dtype: float64"
            ],
            "text/html": [
              "<div>\n",
              "<style scoped>\n",
              "    .dataframe tbody tr th:only-of-type {\n",
              "        vertical-align: middle;\n",
              "    }\n",
              "\n",
              "    .dataframe tbody tr th {\n",
              "        vertical-align: top;\n",
              "    }\n",
              "\n",
              "    .dataframe thead th {\n",
              "        text-align: right;\n",
              "    }\n",
              "</style>\n",
              "<table border=\"1\" class=\"dataframe\">\n",
              "  <thead>\n",
              "    <tr style=\"text-align: right;\">\n",
              "      <th></th>\n",
              "      <th>dT</th>\n",
              "    </tr>\n",
              "  </thead>\n",
              "  <tbody>\n",
              "    <tr>\n",
              "      <th>count</th>\n",
              "      <td>100000.000000</td>\n",
              "    </tr>\n",
              "    <tr>\n",
              "      <th>mean</th>\n",
              "      <td>49.935217</td>\n",
              "    </tr>\n",
              "    <tr>\n",
              "      <th>std</th>\n",
              "      <td>28.274229</td>\n",
              "    </tr>\n",
              "    <tr>\n",
              "      <th>min</th>\n",
              "      <td>0.000223</td>\n",
              "    </tr>\n",
              "    <tr>\n",
              "      <th>25%</th>\n",
              "      <td>26.003391</td>\n",
              "    </tr>\n",
              "    <tr>\n",
              "      <th>50%</th>\n",
              "      <td>49.935217</td>\n",
              "    </tr>\n",
              "    <tr>\n",
              "      <th>75%</th>\n",
              "      <td>73.932487</td>\n",
              "    </tr>\n",
              "    <tr>\n",
              "      <th>max</th>\n",
              "      <td>99.999461</td>\n",
              "    </tr>\n",
              "  </tbody>\n",
              "</table>\n",
              "</div><br><label><b>dtype:</b> float64</label>"
            ]
          },
          "metadata": {},
          "execution_count": 110
        }
      ]
    },
    {
      "cell_type": "code",
      "source": [
        "df['dT'].plot(kind='hist',bins=30)"
      ],
      "metadata": {
        "colab": {
          "base_uri": "https://localhost:8080/",
          "height": 466
        },
        "id": "wsAw7Pf1PV4p",
        "outputId": "8d51278f-5ab1-487f-a493-1973a831a2c8"
      },
      "execution_count": 111,
      "outputs": [
        {
          "output_type": "execute_result",
          "data": {
            "text/plain": [
              "<Axes: ylabel='Frequency'>"
            ]
          },
          "metadata": {},
          "execution_count": 111
        },
        {
          "output_type": "display_data",
          "data": {
            "text/plain": [
              "<Figure size 640x480 with 1 Axes>"
            ],
            "image/png": "[encoded data removed]"
          },
          "metadata": {}
        }
      ]
    },
    {
      "cell_type": "code",
      "source": [
        "df['dT'].plot(kind='kde')"
      ],
      "metadata": {
        "colab": {
          "base_uri": "https://localhost:8080/",
          "height": 466
        },
        "id": "5jb05m-3PZOS",
        "outputId": "128692bb-ed75-4439-8e2e-1dc42ca46cfa"
      },
      "execution_count": 112,
      "outputs": [
        {
          "output_type": "execute_result",
          "data": {
            "text/plain": [
              "<Axes: ylabel='Density'>"
            ]
          },
          "metadata": {},
          "execution_count": 112
        },
        {
          "output_type": "display_data",
          "data": {
            "text/plain": [
              "<Figure size 640x480 with 1 Axes>"
            ],
            "image/png": "[encoded data removed]"
          },
          "metadata": {}
        }
      ]
    },
    {
      "cell_type": "code",
      "source": [
        "df['dT'].skew()"
      ],
      "metadata": {
        "colab": {
          "base_uri": "https://localhost:8080/"
        },
        "id": "Hwtx4Sw0PgJl",
        "outputId": "4257fcb2-6cd6-4c9c-fed7-415e946d43f4"
      },
      "execution_count": 113,
      "outputs": [
        {
          "output_type": "execute_result",
          "data": {
            "text/plain": [
              "0.004046777581206277"
            ]
          },
          "metadata": {},
          "execution_count": 113
        }
      ]
    },
    {
      "cell_type": "code",
      "source": [
        "df['dT'].plot(kind='box')"
      ],
      "metadata": {
        "colab": {
          "base_uri": "https://localhost:8080/",
          "height": 466
        },
        "id": "B0xfMPCHPdn4",
        "outputId": "9e08e6d7-bd93-4bf0-f588-355ac607c3c4"
      },
      "execution_count": 114,
      "outputs": [
        {
          "output_type": "execute_result",
          "data": {
            "text/plain": [
              "<Axes: >"
            ]
          },
          "metadata": {},
          "execution_count": 114
        },
        {
          "output_type": "display_data",
          "data": {
            "text/plain": [
              "<Figure size 640x480 with 1 Axes>"
            ],
            "image/png": "[encoded data removed]"
          },
          "metadata": {}
        }
      ]
    },
    {
      "cell_type": "code",
      "source": [
        "df['dT'].isnull().sum()/len(df['dT'])"
      ],
      "metadata": {
        "colab": {
          "base_uri": "https://localhost:8080/"
        },
        "id": "XBViuzjPPksz",
        "outputId": "1b989d78-f27d-4f76-c31f-9f3e1955c091"
      },
      "execution_count": 115,
      "outputs": [
        {
          "output_type": "execute_result",
          "data": {
            "text/plain": [
              "0.0"
            ]
          },
          "metadata": {},
          "execution_count": 115
        }
      ]
    },
    {
      "cell_type": "code",
      "source": [
        "X_ = input.sample(n=1000, random_state=42)\n",
        "y_ = target[X_.index]\n",
        "X_ = (X_ + np.mean(X_,axis=0))/(np.std(X_,axis=0))\n",
        "data = np.array(df)\n",
        "data = (data - np.min(data, axis=0)) / (np.max(data, axis=0) - np.min(data, axis=0))\n",
        "X = data[:,0:-1]\n",
        "y = data[:,-1]"
      ],
      "metadata": {
        "id": "DmfTCoDKr1BZ"
      },
      "execution_count": 116,
      "outputs": []
    },
    {
      "cell_type": "code",
      "source": [
        "data = (data - np.min(data, axis=0)) / (np.max(data, axis=0) - np.min(data, axis=0))\n",
        "X = data[:,0:-1]\n",
        "y = data[:,-1]\n",
        "X = (X - np.mean(X, axis=0)) / np.std(X, axis=0)\n"
      ],
      "metadata": {
        "id": "1TOSxq_WlSQh"
      },
      "execution_count": 117,
      "outputs": []
    },
    {
      "cell_type": "code",
      "source": [
        "import numpy as np\n",
        "\n",
        "class LinearRegression():\n",
        "    def __init__(self, lr=0.1, epochs=1000, tau=0.5, clip_value=1.0, batch_size=64, regularization=None, reg_strength=0.01,train_time=0):\n",
        "        self.lr = lr\n",
        "        self.epochs = epochs\n",
        "        self.batch_size = batch_size\n",
        "        self.clip_value = clip_value\n",
        "        self.weights = None\n",
        "        self.bias = None\n",
        "        self.regularization = regularization\n",
        "        self.reg_strength = reg_strength\n",
        "        self.cost_history = []\n",
        "        self.tau= tau\n",
        "        self.train_time = 0\n",
        "\n",
        "    def fit(self, X, y, method='gradient_descent'):\n",
        "        samples, features = X.shape\n",
        "        self.weights = np.random.rand(features) * 0.01\n",
        "        self.bias = 0\n",
        "        self.descent_methods = {\n",
        "            'gradient_descent': lambda: self.gradient_descent(X, y),\n",
        "            'SGD': lambda: self.stochastic_gradient_descent(X, y),\n",
        "            'mini_batch': lambda: self.mini_batch_descent(X, y)\n",
        "        }\n",
        "        self.time_taken = self.descent_methods[method]()\n",
        "\n",
        "    def compute_gradient(self, X, y):\n",
        "        samples = X.shape[0]\n",
        "        y_pred = np.dot(X, self.weights) + self.bias\n",
        "        dy_pred = y_pred - y\n",
        "        dW = (1/samples) * (np.dot(X.T, dy_pred))\n",
        "        db = (1/samples) * np.sum(dy_pred)\n",
        "        if self.regularization == 'l1':\n",
        "            dW += self.reg_strength * np.sign(self.weights)\n",
        "        elif self.regularization == 'l2':\n",
        "            dW += self.reg_strength * self.weights\n",
        "\n",
        "        dW = np.clip(dW, -self.clip_value, self.clip_value)\n",
        "        db = np.clip(db, -self.clip_value, self.clip_value)\n",
        "        return dW, db\n",
        "\n",
        "\n",
        "    def predict(self, X):\n",
        "        y_pred = np.dot(X, self.weights) + self.bias\n",
        "        return y_pred\n",
        "\n",
        "    def cost(self, X, y):\n",
        "        samples = X.shape[0]\n",
        "        y_pred = self.predict(X)\n",
        "        mse = (1/(2*samples)) * np.sum(np.square(y - y_pred))\n",
        "\n",
        "        if self.regularization == 'l1':\n",
        "            mse += self.reg_strength * np.sum(np.abs(self.weights))\n",
        "        elif self.regularization == 'l2':\n",
        "            mse += 0.5 * self.reg_strength * np.sum(np.square(self.weights))\n",
        "\n",
        "        return mse\n",
        "\n",
        "    def gradient_descent(self, X, y):\n",
        "      start_time = time.time()\n",
        "      for _ in range(self.epochs):\n",
        "            dW, db = self.compute_gradient(X, y)\n",
        "            self.weights -= self.lr * dW\n",
        "            self.bias -= self.lr * db\n",
        "            self.cost_history.append(self.cost(X, y))\n",
        "      end_time = time.time()\n",
        "      return end_time - start_time\n",
        "\n",
        "    def stochastic_gradient_descent(self, X, y):\n",
        "        samples = X.shape[0]\n",
        "        start_time = time.time()\n",
        "        for _ in range(self.epochs):\n",
        "            indices = np.random.permutation(samples)\n",
        "            for idx in indices:\n",
        "                X_i = X[idx:idx+1]\n",
        "                y_i = y[idx:idx+1]\n",
        "                dW, db = self.compute_gradient(X_i, y_i)\n",
        "                self.weights -= self.lr * dW\n",
        "                self.bias -= self.lr * db\n",
        "                self.cost_history.append(self.cost(X, y))\n",
        "        end_time = time.time()\n",
        "        return end_time - start_time\n",
        "\n",
        "    def mini_batch_descent(self, X, y):\n",
        "        samples = X.shape[0]\n",
        "        start_time = time.time()\n",
        "        for _ in range(self.epochs):\n",
        "            indices = np.random.permutation(samples)\n",
        "            for i in range(0, samples, self.batch_size):\n",
        "                idx = indices[i:min(i+self.batch_size, samples)]\n",
        "                X_batch = X[idx]\n",
        "                y_batch = y[idx]\n",
        "                dW, db = self.compute_gradient(X_batch, y_batch)\n",
        "                self.weights -= self.lr * dW\n",
        "                self.bias -= self.lr * db\n",
        "                self.cost_history.append(self.cost(X, y))\n",
        "        end_time = time.time()\n",
        "        return end_time - start_time\n",
        "\n",
        "    def r2_score(self,y_pred,y):\n",
        "      y_mean=np.mean(y)\n",
        "      ss_res=np.sum(np.square(y-y_pred))\n",
        "      ss_mean=np.sum(np.square(y-y_mean))\n",
        "      return 1-(ss_res/ss_mean)\n",
        "\n",
        "    def mae(self,y_pred,y):\n",
        "       return np.sum(np.abs(y-y_pred))/len(y)\n",
        "\n",
        "    def plot_cost_history(self):\n",
        "        plt.figure(figsize=(10, 6))\n",
        "        plt.plot(range(1, len(self.cost_history) + 1), self.cost_history)\n",
        "        plt.title('Cost Function over Epochs')\n",
        "        plt.xlabel('Epochs')\n",
        "        plt.ylabel('Cost')\n",
        "        plt.grid(True)\n",
        "        plt.show()\n",
        "\n",
        "    def evaluate_model(self, y, y_pred):\n",
        "      mse = np.mean((y - y_pred) ** 2)\n",
        "      rmse = np.sqrt(mse)\n",
        "      mae = np.mean(np.abs(y - y_pred))\n",
        "      r2 = 1 - np.sum((y - y_pred) ** 2) / np.sum((y - np.mean(y)) ** 2)\n",
        "\n",
        "      return {\n",
        "          'mse': mse,\n",
        "          'rmse': rmse,\n",
        "          'mae': mae,\n",
        "          'r2': r2\n",
        "      }\n",
        "    def weighted_reg_single(self, X, y, x_query):\n",
        "        m, n = X.shape\n",
        "        W = np.eye(m)\n",
        "        for i in range(m):\n",
        "            W[i, i] = np.exp(-np.sum((X[i] - x_query) ** 2) / (2 * self.tau ** 2))\n",
        "        theta = np.linalg.pinv(X.T @ W @ X) @ (X.T @ W @ y)\n",
        "\n",
        "        return x_query @ theta\n",
        "\n",
        "\n",
        "\n",
        "    def weighted_regression(self,X, y):\n",
        "      return np.array([self.weighted_reg_single(X, y, x_q) for x_q in X])"
      ],
      "metadata": {
        "id": "NlOgk9V0-oX5"
      },
      "execution_count": 121,
      "outputs": []
    },
    {
      "cell_type": "code",
      "source": [
        "models = [\n",
        "    LinearRegression(regularization=None),\n",
        "    LinearRegression(regularization='l1'),\n",
        "    LinearRegression(regularization='l2'),\n",
        "]\n",
        "\n",
        "results = {}\n",
        "for model in models:\n",
        "    model.lr = 0.0001\n",
        "    model.clip_value = 0.1\n",
        "    model.epochs = 100\n",
        "    model.reg_strength = 0.0001\n",
        "    model.fit(X, y, method='mini_batch')\n",
        "    train_time = model.train_time\n",
        "    y_pred = model.predict(X_)\n",
        "    metrics = model.evaluate_model(y_, y_pred)\n",
        "    metrics['train_time'] = train_time\n",
        "    results[f'{type(model).__name__}_{model.regularization}'] = metrics\n",
        "\n",
        "for key, value in results.items():\n",
        "    print(f'{key}')\n",
        "    for k, v in value.items():\n",
        "        print(f'{k} : {v}')\n",
        "    print('\\n')"
      ],
      "metadata": {
        "collapsed": true,
        "id": "pEMrQnDeqOkJ"
      },
      "execution_count": null,
      "outputs": []
    }
  ]
}