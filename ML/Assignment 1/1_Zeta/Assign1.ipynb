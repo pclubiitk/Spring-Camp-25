{
  "nbformat": 4,
  "nbformat_minor": 0,
  "metadata": {
    "colab": {
      "provenance": []
    },
    "kernelspec": {
      "name": "python3",
      "display_name": "Python 3"
    },
    "language_info": {
      "name": "python"
    }
  },
  "cells": [
    {
      "cell_type": "code",
      "execution_count": null,
      "metadata": {
        "id": "mBoqLp9ryAx1"
      },
      "outputs": [],
      "source": [
        "import kagglehub\n",
        "\n",
        "# Download latest version\n",
        "path = kagglehub.dataset_download(\"mohansacharya/graduate-admissions\")\n",
        "\n",
        "print(\"Path to dataset files:\", path)"
      ]
    },
    {
      "cell_type": "code",
      "source": [
        "import pandas as pd\n",
        "import numpy as np\n",
        "import matplotlib.pyplot as plt\n",
        "import seaborn as sns\n",
        "\n",
        "df = pd.read_csv(path + \"/Admission_Predict.csv\")\n",
        "input=df.drop(['Chance of Admit ','Serial No.'],axis=1)\n",
        "label=df['Chance of Admit ']\n",
        "\n",
        "df.head()"
      ],
      "metadata": {
        "id": "vzeVxfqi1-B_"
      },
      "execution_count": null,
      "outputs": []
    },
    {
      "cell_type": "markdown",
      "source": [
        "# Data Scaling and Standardization"
      ],
      "metadata": {
        "id": "rYN907eOvvkg"
      }
    },
    {
      "cell_type": "code",
      "source": [
        "X= np.array(input)\n",
        "y= np.array(label)\n",
        "X = (X + np.mean(X,axis=0))/(np.std(X,axis=0))"
      ],
      "metadata": {
        "id": "wrJk5Urh390h"
      },
      "execution_count": 20,
      "outputs": []
    },
    {
      "cell_type": "markdown",
      "source": [
        "# Linear Regression Pipeline"
      ],
      "metadata": {
        "id": "jhdtztnCv_0G"
      }
    },
    {
      "cell_type": "code",
      "source": [
        "import numpy as np\n",
        "\n",
        "class LinearRegression():\n",
        "    def __init__(self, lr=0.1, epochs=1000, clip_value=1.0, batch_size=64, reg_type=None, reg_strength=0.01):\n",
        "        self.lr = lr\n",
        "        self.epochs = epochs\n",
        "        self.batch_size = batch_size\n",
        "        self.clip_value = clip_value\n",
        "        self.weights = None\n",
        "        self.bias = None\n",
        "        self.reg_type = reg_type\n",
        "        self.reg_strength = reg_strength\n",
        "        self.cost_history = []\n",
        "\n",
        "    def fit(self, X, y, method='gradient_descent'):\n",
        "        samples, features = X.shape\n",
        "        self.weights = np.random.rand(features) * 0.01\n",
        "        self.bias = 0\n",
        "        self.descent_methods = {\n",
        "            'gradient_descent': lambda: self.gradient_descent(X, y),\n",
        "            'SGD': lambda: self.stochastic_gradient_descent(X, y),\n",
        "            'mini_batch': lambda: self.mini_batch_descent(X, y)\n",
        "        }\n",
        "        self.descent_methods[method]()\n",
        "\n",
        "    def compute_gradient(self, X, y):\n",
        "        samples = X.shape[0]\n",
        "        y_pred = np.dot(X, self.weights) + self.bias\n",
        "        dy_pred = y_pred - y\n",
        "        dW = (1/samples) * (np.dot(X.T, dy_pred))\n",
        "        db = (1/samples) * np.sum(dy_pred)\n",
        "        if self.reg_type == 'l1':\n",
        "            dW += self.reg_strength * np.sign(self.weights)\n",
        "        elif self.reg_type == 'l2':\n",
        "            dW += self.reg_strength * self.weights\n",
        "\n",
        "        dW = np.clip(dW, -self.clip_value, self.clip_value)\n",
        "        db = np.clip(db, -self.clip_value, self.clip_value)\n",
        "        return dW, db\n",
        "\n",
        "    def predict(self, X):\n",
        "        y_pred = np.dot(X, self.weights) + self.bias\n",
        "        return y_pred\n",
        "\n",
        "    def cost(self, X, y):\n",
        "        samples = X.shape[0]\n",
        "        y_pred = self.predict(X)\n",
        "        mse = (1/(2*samples)) * np.sum(np.square(y - y_pred))\n",
        "\n",
        "        if self.reg_type == 'l1':\n",
        "            mse += self.reg_strength * np.sum(np.abs(self.weights))\n",
        "        elif self.reg_type == 'l2':\n",
        "            mse += 0.5 * self.reg_strength * np.sum(np.square(self.weights))\n",
        "\n",
        "        return mse\n",
        "\n",
        "    def gradient_descent(self, X, y):\n",
        "        for _ in range(self.epochs):\n",
        "            dW, db = self.compute_gradient(X, y)\n",
        "            self.weights -= self.lr * dW\n",
        "            self.bias -= self.lr * db\n",
        "            self.cost_history.append(self.cost(X, y))\n",
        "\n",
        "    def stochastic_gradient_descent(self, X, y):\n",
        "        samples = X.shape[0]\n",
        "        for _ in range(self.epochs):\n",
        "            indices = np.random.permutation(samples)\n",
        "            for idx in indices:\n",
        "                X_i = X[idx:idx+1]\n",
        "                y_i = y[idx:idx+1]\n",
        "                dW, db = self.compute_gradient(X_i, y_i)\n",
        "                self.weights -= self.lr * dW\n",
        "                self.bias -= self.lr * db\n",
        "                self.cost_history.append(self.cost(X, y))\n",
        "\n",
        "    def mini_batch_descent(self, X, y):\n",
        "        samples = X.shape[0]\n",
        "        for _ in range(self.epochs):\n",
        "            indices = np.random.permutation(samples)\n",
        "            for i in range(0, samples, self.batch_size):\n",
        "                idx = indices[i:min(i+self.batch_size, samples)]\n",
        "                X_batch = X[idx]\n",
        "                y_batch = y[idx]\n",
        "                dW, db = self.compute_gradient(X_batch, y_batch)\n",
        "                self.weights -= self.lr * dW\n",
        "                self.bias -= self.lr * db\n",
        "                self.cost_history.append(self.cost(X, y))\n",
        "\n",
        "    def r2_score(self,X,y):\n",
        "      y_pred = self.predict(X)\n",
        "      y_mean=np.mean(y)\n",
        "      ss_res=np.sum(np.square(y-y_pred))\n",
        "      ss_mean=np.sum(np.square(y-y_mean))\n",
        "      return 1-(ss_res/ss_mean)\n",
        "\n",
        "    def mae(self,X,y):\n",
        "      y_pred = self.predict(X)\n",
        "      return np.sum(np.abs(y-y_pred))/len(y)\n",
        "\n",
        "    def plot_cost_history(self):\n",
        "        plt.figure(figsize=(10, 6))\n",
        "        plt.plot(range(1, len(self.cost_history) + 1), self.cost_history)\n",
        "        plt.title('Cost Function over Epochs')\n",
        "        plt.xlabel('Epochs')\n",
        "        plt.ylabel('Cost')\n",
        "        plt.grid(True)\n",
        "        plt.show()\n",
        "\n"
      ],
      "metadata": {
        "id": "OEnE7fy1P3H7"
      },
      "execution_count": 21,
      "outputs": []
    },
    {
      "cell_type": "code",
      "source": [
        "regressor = LinearRegression()\n",
        "regressor.lr = 0.0001\n",
        "regressor.clip_value = 0.1\n",
        "regressor.epochs = 100\n",
        "regressor.reg_type='l2'\n",
        "regressor.reg_strength=0.0001\n",
        "regressor.fit(X,y,method='mini_batch')\n",
        "y_pred =  regressor.predict(X)\n",
        "mse = regressor.cost(X,y)\n",
        "r2=regressor.r2_score(X,y)\n",
        "mae=regressor.mae(X,y)\n",
        "print(\"MSE: \",mse)\n",
        "print(\"R2: \",r2)\n",
        "print(\"MAE: \",mae)\n",
        "regressor.plot_cost_history()\n"
      ],
      "metadata": {
        "id": "ktBwiuld8JcT",
        "colab": {
          "base_uri": "https://localhost:8080/",
          "height": 634
        },
        "outputId": "1a91856b-fb0c-44e2-c8fb-c0fb13852fc5"
      },
      "execution_count": 30,
      "outputs": [
        {
          "output_type": "stream",
          "name": "stdout",
          "text": [
            "MSE:  0.0060013148294893225\n",
            "R2:  0.4083482961333049\n",
            "MAE:  0.08647088933331944\n"
          ]
        },
        {
          "output_type": "display_data",
          "data": {
            "text/plain": [
              "<Figure size 1000x600 with 1 Axes>"
            ],
            "image/png": "[encoded data removed]"
          },
          "metadata": {}
        }
      ]
    }
  ]
}