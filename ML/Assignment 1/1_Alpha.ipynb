{
  "nbformat": 4,
  "nbformat_minor": 0,
  "metadata": {
    "colab": {
      "provenance": []
    },
    "kernelspec": {
      "name": "python3",
      "display_name": "Python 3"
    },
    "language_info": {
      "name": "python"
    }
  },
  "cells": [
    {
      "cell_type": "code",
      "execution_count": null,
      "metadata": {
        "id": "ypB4fpC0DfH4"
      },
      "outputs": [],
      "source": [
        "import numpy as np\n",
        "import pandas as pd\n",
        "import matplotlib.pyplot as plt\n",
        "import random"
      ]
    },
    {
      "cell_type": "code",
      "source": [
        "class LinearRegression():\n",
        "  def __init__(self, lr=0.001, iterations=1000, r2_plot = True):\n",
        "    self.lr = lr\n",
        "    self.iterations = iterations\n",
        "    self.r2_plot = r2_plot\n",
        "\n",
        "  def fit(self, X, y):\n",
        "    self.m, self.n = X.shape\n",
        "    self.w = np.zeros(self.n)\n",
        "    self.b = 0\n",
        "    self.X = X\n",
        "    self.y = y\n",
        "    self.r2_history = []\n",
        "\n",
        "    #gradient descent\n",
        "    for i in range(self.iterations):\n",
        "      hypothesis = np.dot(self.X, self.w) + self.b\n",
        "      self.r2_history.append(r2_score(self.y, hypothesis)) if r2_score(self.y, hypothesis) > 0 else None\n",
        "      cost = (1/self.m) * np.sum((hypothesis - self.y)**2)\n",
        "      dw = 2*((1/self.m) * np.dot(self.X.T, (hypothesis - self.y)))\n",
        "      db = 2*((1/self.m) * np.sum(hypothesis - self.y))\n",
        "      self.w = self.w - self.lr * dw\n",
        "      self.b = self.b - self.lr * db\n",
        "\n",
        "    if self.r2_plot:\n",
        "      plt.plot([j for j in range(self.iterations - len(self.r2_history), self.iterations)], self.r2_history)\n",
        "      plt.xlabel('Iterations')\n",
        "      plt.ylabel('R2 Score')\n",
        "      plt.title('R2 Score vs Iterations (After R2 Score > 0)')\n",
        "      plt.show()\n",
        "\n",
        "    return self\n",
        "\n",
        "  def predict(self, X):\n",
        "    return np.dot(X, self.w) + self.b"
      ],
      "metadata": {
        "id": "qB6WO2g_G3O3"
      },
      "execution_count": null,
      "outputs": []
    },
    {
      "cell_type": "code",
      "source": [
        "class LassoRegression():\n",
        "\n",
        "  def __init__(self, penalty=0.1, lr=0.01, iterations=1000, r2_plot=True):\n",
        "    self.lr = lr\n",
        "    self.iterations = iterations\n",
        "    self.penalty = penalty\n",
        "    self.r2_plot = r2_plot\n",
        "\n",
        "  def fit(self, X, y):\n",
        "    self.m, self.n = X.shape\n",
        "    self.W = np.zeros(self.n)\n",
        "    self.b = 0\n",
        "    self.X = X\n",
        "    self.y = y\n",
        "    self.r2_history = []\n",
        "\n",
        "    # change values in each iteration\n",
        "    for i in range(self.iterations):\n",
        "      self.update_weights()\n",
        "      self.r2_history.append(r2_score(self.y, self.predict(self.X))) if r2_score(self.y, self.predict(self.X)) > 0 else None\n",
        "\n",
        "    if self.r2_plot:\n",
        "      plt.plot([j for j in range(self.iterations - len(self.r2_history), self.iterations)], self.r2_history)\n",
        "      plt.xlabel('Iterations')\n",
        "      plt.ylabel('R2 Score')\n",
        "      plt.title('R2 Score vs Iterations (After R2 Score > 0)')\n",
        "      plt.show()\n",
        "\n",
        "    return self\n",
        "\n",
        "  def predict(self, X):\n",
        "    return np.dot(X, self.W) + self.b\n",
        "\n",
        "  def update_weights(self):\n",
        "    hypothesis = self.predict(self.X)\n",
        "\n",
        "    # calculate dw and db\n",
        "    dW = np.zeros(self.n)\n",
        "    for j in range(self.n):\n",
        "        if self.W[j] > 0:\n",
        "            dW[j] = (-2 * (self.X[:, j]).dot(self.y - hypothesis) + self.penalty) / self.m\n",
        "        else:\n",
        "            dW[j] = (-2 * (self.X[:, j]).dot(self.y - hypothesis) - self.penalty) / self.m\n",
        "\n",
        "    db = -2 * np.sum(self.y - hypothesis) / self.m\n",
        "\n",
        "    # update weights\n",
        "    self.W = self.W - self.lr * dW\n",
        "    self.b = self.b - self.lr * db\n",
        "    return self\n"
      ],
      "metadata": {
        "id": "XwnX3W9yWrul"
      },
      "execution_count": null,
      "outputs": []
    },
    {
      "cell_type": "code",
      "source": [
        "class RidgeRegression():\n",
        "\n",
        "  def __init__(self, penalty=0.1, lr=0.01, iterations=1000, r2_plot=True):\n",
        "    self.lr = lr\n",
        "    self.iterations = iterations\n",
        "    self.penalty = penalty\n",
        "    self.r2_plot = r2_plot\n",
        "\n",
        "  def fit(self, X, y):\n",
        "    self.m, self.n = X.shape\n",
        "    self.W = np.zeros(self.n)\n",
        "    self.b = 0\n",
        "    self.X = X\n",
        "    self.y = y\n",
        "    self.r2_history = []\n",
        "\n",
        "    # change values in each iteration\n",
        "    for i in range(self.iterations):\n",
        "      self.update_weights()\n",
        "      self.r2_history.append(r2_score(self.y, self.predict(self.X))) if r2_score(self.y, self.predict(self.X)) > 0 else None\n",
        "\n",
        "    if self.r2_plot:\n",
        "      plt.plot([j for j in range(self.iterations - len(self.r2_history), self.iterations)], self.r2_history)\n",
        "      plt.xlabel('Iterations')\n",
        "      plt.ylabel('R2 Score')\n",
        "      plt.title('R2 Score vs Iterations (After R2 Score > 0)')\n",
        "      plt.show()\n",
        "\n",
        "    return self\n",
        "\n",
        "  def predict(self, X):\n",
        "    return np.dot(X, self.W) + self.b\n",
        "\n",
        "  def update_weights(self):\n",
        "    hypothesis = self.predict(self.X)\n",
        "\n",
        "    # calculate dW, db\n",
        "    dW = ( - ( 2 * ( self.X.T ).dot( self.y - hypothesis ) ) + ( 2 * self.penalty * self.W ) ) / self.m\n",
        "    db = - 2 * np.sum( self.y - hypothesis ) / self.m\n",
        "\n",
        "    # change weights\n",
        "    self.W = self.W - self.lr * dW\n",
        "    self.b = self.b - self.lr * db\n",
        "    return self"
      ],
      "metadata": {
        "id": "KxeqQ0EJbq1P"
      },
      "execution_count": null,
      "outputs": []
    },
    {
      "cell_type": "code",
      "source": [
        "def mean_absolute_error(y, hypothesis):\n",
        "      return np.mean(np.abs(y - hypothesis))\n",
        "\n",
        "def mean_squared_error(y, hypothesis):\n",
        "      return np.mean((y- hypothesis) ** 2)\n",
        "\n",
        "def r2_score(y, hypothesis):\n",
        "      ss_total = np.sum((y - np.mean(y)) ** 2)\n",
        "      ss_residual = np.sum((y - hypothesis) ** 2)\n",
        "      return 1 - (ss_residual / ss_total) if ss_total != 0 else 1"
      ],
      "metadata": {
        "id": "ZHvkN9yKUsp_"
      },
      "execution_count": null,
      "outputs": []
    },
    {
      "cell_type": "code",
      "source": [
        "import kagglehub\n",
        "path = kagglehub.dataset_download(\"mohansacharya/graduate-admissions\")\n",
        "data1 = pd.read_csv(f'{path}/Admission_Predict.csv')\n",
        "data2 = pd.read_csv(f'{path}/Admission_Predict_Ver1.1.csv')\n",
        "data = pd.concat([data1, data2], ignore_index=True)\n",
        "print(data.shape)\n",
        "data.head()"
      ],
      "metadata": {
        "colab": {
          "base_uri": "https://localhost:8080/",
          "height": 223
        },
        "id": "7x7P2AkCSGn2",
        "outputId": "bb6ddbad-f174-426d-d656-8576676d094d"
      },
      "execution_count": null,
      "outputs": [
        {
          "output_type": "stream",
          "name": "stdout",
          "text": [
            "(900, 9)\n"
          ]
        },
        {
          "output_type": "execute_result",
          "data": {
            "text/plain": [
              "   Serial No.  GRE Score  TOEFL Score  University Rating  SOP  LOR   CGPA  \\\n",
              "0           1        337          118                  4  4.5   4.5  9.65   \n",
              "1           2        324          107                  4  4.0   4.5  8.87   \n",
              "2           3        316          104                  3  3.0   3.5  8.00   \n",
              "3           4        322          110                  3  3.5   2.5  8.67   \n",
              "4           5        314          103                  2  2.0   3.0  8.21   \n",
              "\n",
              "   Research  Chance of Admit   \n",
              "0         1              0.92  \n",
              "1         1              0.76  \n",
              "2         1              0.72  \n",
              "3         1              0.80  \n",
              "4         0              0.65  "
            ],
            "text/html": [
              "\n",
              "  <div id=\"df-789d523a-2fbf-4d14-8472-ad9a44c8da31\" class=\"colab-df-container\">\n",
              "    <div>\n",
              "<style scoped>\n",
              "    .dataframe tbody tr th:only-of-type {\n",
              "        vertical-align: middle;\n",
              "    }\n",
              "\n",
              "    .dataframe tbody tr th {\n",
              "        vertical-align: top;\n",
              "    }\n",
              "\n",
              "    .dataframe thead th {\n",
              "        text-align: right;\n",
              "    }\n",
              "</style>\n",
              "<table border=\"1\" class=\"dataframe\">\n",
              "  <thead>\n",
              "    <tr style=\"text-align: right;\">\n",
              "      <th></th>\n",
              "      <th>Serial No.</th>\n",
              "      <th>GRE Score</th>\n",
              "      <th>TOEFL Score</th>\n",
              "      <th>University Rating</th>\n",
              "      <th>SOP</th>\n",
              "      <th>LOR</th>\n",
              "      <th>CGPA</th>\n",
              "      <th>Research</th>\n",
              "      <th>Chance of Admit</th>\n",
              "    </tr>\n",
              "  </thead>\n",
              "  <tbody>\n",
              "    <tr>\n",
              "      <th>0</th>\n",
              "      <td>1</td>\n",
              "      <td>337</td>\n",
              "      <td>118</td>\n",
              "      <td>4</td>\n",
              "      <td>4.5</td>\n",
              "      <td>4.5</td>\n",
              "      <td>9.65</td>\n",
              "      <td>1</td>\n",
              "      <td>0.92</td>\n",
              "    </tr>\n",
              "    <tr>\n",
              "      <th>1</th>\n",
              "      <td>2</td>\n",
              "      <td>324</td>\n",
              "      <td>107</td>\n",
              "      <td>4</td>\n",
              "      <td>4.0</td>\n",
              "      <td>4.5</td>\n",
              "      <td>8.87</td>\n",
              "      <td>1</td>\n",
              "      <td>0.76</td>\n",
              "    </tr>\n",
              "    <tr>\n",
              "      <th>2</th>\n",
              "      <td>3</td>\n",
              "      <td>316</td>\n",
              "      <td>104</td>\n",
              "      <td>3</td>\n",
              "      <td>3.0</td>\n",
              "      <td>3.5</td>\n",
              "      <td>8.00</td>\n",
              "      <td>1</td>\n",
              "      <td>0.72</td>\n",
              "    </tr>\n",
              "    <tr>\n",
              "      <th>3</th>\n",
              "      <td>4</td>\n",
              "      <td>322</td>\n",
              "      <td>110</td>\n",
              "      <td>3</td>\n",
              "      <td>3.5</td>\n",
              "      <td>2.5</td>\n",
              "      <td>8.67</td>\n",
              "      <td>1</td>\n",
              "      <td>0.80</td>\n",
              "    </tr>\n",
              "    <tr>\n",
              "      <th>4</th>\n",
              "      <td>5</td>\n",
              "      <td>314</td>\n",
              "      <td>103</td>\n",
              "      <td>2</td>\n",
              "      <td>2.0</td>\n",
              "      <td>3.0</td>\n",
              "      <td>8.21</td>\n",
              "      <td>0</td>\n",
              "      <td>0.65</td>\n",
              "    </tr>\n",
              "  </tbody>\n",
              "</table>\n",
              "</div>\n",
              "    <div class=\"colab-df-buttons\">\n",
              "\n",
              "  <div class=\"colab-df-container\">\n",
              "    <button class=\"colab-df-convert\" onclick=\"convertToInteractive('df-789d523a-2fbf-4d14-8472-ad9a44c8da31')\"\n",
              "            title=\"Convert this dataframe to an interactive table.\"\n",
              "            style=\"display:none;\">\n",
              "\n",
              "  <svg xmlns=\"http://www.w3.org/2000/svg\" height=\"24px\" viewBox=\"0 -960 960 960\">\n",
              "    <path d=\"M120-120v-720h720v720H120Zm60-500h600v-160H180v160Zm220 220h160v-160H400v160Zm0 220h160v-160H400v160ZM180-400h160v-160H180v160Zm440 0h160v-160H620v160ZM180-180h160v-160H180v160Zm440 0h160v-160H620v160Z\"/>\n",
              "  </svg>\n",
              "    </button>\n",
              "\n",
              "  <style>\n",
              "    .colab-df-container {\n",
              "      display:flex;\n",
              "      gap: 12px;\n",
              "    }\n",
              "\n",
              "    .colab-df-convert {\n",
              "      background-color: #E8F0FE;\n",
              "      border: none;\n",
              "      border-radius: 50%;\n",
              "      cursor: pointer;\n",
              "      display: none;\n",
              "      fill: #1967D2;\n",
              "      height: 32px;\n",
              "      padding: 0 0 0 0;\n",
              "      width: 32px;\n",
              "    }\n",
              "\n",
              "    .colab-df-convert:hover {\n",
              "      background-color: #E2EBFA;\n",
              "      box-shadow: 0px 1px 2px rgba(60, 64, 67, 0.3), 0px 1px 3px 1px rgba(60, 64, 67, 0.15);\n",
              "      fill: #174EA6;\n",
              "    }\n",
              "\n",
              "    .colab-df-buttons div {\n",
              "      margin-bottom: 4px;\n",
              "    }\n",
              "\n",
              "    [theme=dark] .colab-df-convert {\n",
              "      background-color: #3B4455;\n",
              "      fill: #D2E3FC;\n",
              "    }\n",
              "\n",
              "    [theme=dark] .colab-df-convert:hover {\n",
              "      background-color: #434B5C;\n",
              "      box-shadow: 0px 1px 3px 1px rgba(0, 0, 0, 0.15);\n",
              "      filter: drop-shadow(0px 1px 2px rgba(0, 0, 0, 0.3));\n",
              "      fill: #FFFFFF;\n",
              "    }\n",
              "  </style>\n",
              "\n",
              "    <script>\n",
              "      const buttonEl =\n",
              "        document.querySelector('#df-789d523a-2fbf-4d14-8472-ad9a44c8da31 button.colab-df-convert');\n",
              "      buttonEl.style.display =\n",
              "        google.colab.kernel.accessAllowed ? 'block' : 'none';\n",
              "\n",
              "      async function convertToInteractive(key) {\n",
              "        const element = document.querySelector('#df-789d523a-2fbf-4d14-8472-ad9a44c8da31');\n",
              "        const dataTable =\n",
              "          await google.colab.kernel.invokeFunction('convertToInteractive',\n",
              "                                                    [key], {});\n",
              "        if (!dataTable) return;\n",
              "\n",
              "        const docLinkHtml = 'Like what you see? Visit the ' +\n",
              "          '<a target=\"_blank\" href=https://colab.research.google.com/notebooks/data_table.ipynb>data table notebook</a>'\n",
              "          + ' to learn more about interactive tables.';\n",
              "        element.innerHTML = '';\n",
              "        dataTable['output_type'] = 'display_data';\n",
              "        await google.colab.output.renderOutput(dataTable, element);\n",
              "        const docLink = document.createElement('div');\n",
              "        docLink.innerHTML = docLinkHtml;\n",
              "        element.appendChild(docLink);\n",
              "      }\n",
              "    </script>\n",
              "  </div>\n",
              "\n",
              "\n",
              "<div id=\"df-81d698b3-a031-4cf6-a2ee-23003cb852f3\">\n",
              "  <button class=\"colab-df-quickchart\" onclick=\"quickchart('df-81d698b3-a031-4cf6-a2ee-23003cb852f3')\"\n",
              "            title=\"Suggest charts\"\n",
              "            style=\"display:none;\">\n",
              "\n",
              "<svg xmlns=\"http://www.w3.org/2000/svg\" height=\"24px\"viewBox=\"0 0 24 24\"\n",
              "     width=\"24px\">\n",
              "    <g>\n",
              "        <path d=\"M19 3H5c-1.1 0-2 .9-2 2v14c0 1.1.9 2 2 2h14c1.1 0 2-.9 2-2V5c0-1.1-.9-2-2-2zM9 17H7v-7h2v7zm4 0h-2V7h2v10zm4 0h-2v-4h2v4z\"/>\n",
              "    </g>\n",
              "</svg>\n",
              "  </button>\n",
              "\n",
              "<style>\n",
              "  .colab-df-quickchart {\n",
              "      --bg-color: #E8F0FE;\n",
              "      --fill-color: #1967D2;\n",
              "      --hover-bg-color: #E2EBFA;\n",
              "      --hover-fill-color: #174EA6;\n",
              "      --disabled-fill-color: #AAA;\n",
              "      --disabled-bg-color: #DDD;\n",
              "  }\n",
              "\n",
              "  [theme=dark] .colab-df-quickchart {\n",
              "      --bg-color: #3B4455;\n",
              "      --fill-color: #D2E3FC;\n",
              "      --hover-bg-color: #434B5C;\n",
              "      --hover-fill-color: #FFFFFF;\n",
              "      --disabled-bg-color: #3B4455;\n",
              "      --disabled-fill-color: #666;\n",
              "  }\n",
              "\n",
              "  .colab-df-quickchart {\n",
              "    background-color: var(--bg-color);\n",
              "    border: none;\n",
              "    border-radius: 50%;\n",
              "    cursor: pointer;\n",
              "    display: none;\n",
              "    fill: var(--fill-color);\n",
              "    height: 32px;\n",
              "    padding: 0;\n",
              "    width: 32px;\n",
              "  }\n",
              "\n",
              "  .colab-df-quickchart:hover {\n",
              "    background-color: var(--hover-bg-color);\n",
              "    box-shadow: 0 1px 2px rgba(60, 64, 67, 0.3), 0 1px 3px 1px rgba(60, 64, 67, 0.15);\n",
              "    fill: var(--button-hover-fill-color);\n",
              "  }\n",
              "\n",
              "  .colab-df-quickchart-complete:disabled,\n",
              "  .colab-df-quickchart-complete:disabled:hover {\n",
              "    background-color: var(--disabled-bg-color);\n",
              "    fill: var(--disabled-fill-color);\n",
              "    box-shadow: none;\n",
              "  }\n",
              "\n",
              "  .colab-df-spinner {\n",
              "    border: 2px solid var(--fill-color);\n",
              "    border-color: transparent;\n",
              "    border-bottom-color: var(--fill-color);\n",
              "    animation:\n",
              "      spin 1s steps(1) infinite;\n",
              "  }\n",
              "\n",
              "  @keyframes spin {\n",
              "    0% {\n",
              "      border-color: transparent;\n",
              "      border-bottom-color: var(--fill-color);\n",
              "      border-left-color: var(--fill-color);\n",
              "    }\n",
              "    20% {\n",
              "      border-color: transparent;\n",
              "      border-left-color: var(--fill-color);\n",
              "      border-top-color: var(--fill-color);\n",
              "    }\n",
              "    30% {\n",
              "      border-color: transparent;\n",
              "      border-left-color: var(--fill-color);\n",
              "      border-top-color: var(--fill-color);\n",
              "      border-right-color: var(--fill-color);\n",
              "    }\n",
              "    40% {\n",
              "      border-color: transparent;\n",
              "      border-right-color: var(--fill-color);\n",
              "      border-top-color: var(--fill-color);\n",
              "    }\n",
              "    60% {\n",
              "      border-color: transparent;\n",
              "      border-right-color: var(--fill-color);\n",
              "    }\n",
              "    80% {\n",
              "      border-color: transparent;\n",
              "      border-right-color: var(--fill-color);\n",
              "      border-bottom-color: var(--fill-color);\n",
              "    }\n",
              "    90% {\n",
              "      border-color: transparent;\n",
              "      border-bottom-color: var(--fill-color);\n",
              "    }\n",
              "  }\n",
              "</style>\n",
              "\n",
              "  <script>\n",
              "    async function quickchart(key) {\n",
              "      const quickchartButtonEl =\n",
              "        document.querySelector('#' + key + ' button');\n",
              "      quickchartButtonEl.disabled = true;  // To prevent multiple clicks.\n",
              "      quickchartButtonEl.classList.add('colab-df-spinner');\n",
              "      try {\n",
              "        const charts = await google.colab.kernel.invokeFunction(\n",
              "            'suggestCharts', [key], {});\n",
              "      } catch (error) {\n",
              "        console.error('Error during call to suggestCharts:', error);\n",
              "      }\n",
              "      quickchartButtonEl.classList.remove('colab-df-spinner');\n",
              "      quickchartButtonEl.classList.add('colab-df-quickchart-complete');\n",
              "    }\n",
              "    (() => {\n",
              "      let quickchartButtonEl =\n",
              "        document.querySelector('#df-81d698b3-a031-4cf6-a2ee-23003cb852f3 button');\n",
              "      quickchartButtonEl.style.display =\n",
              "        google.colab.kernel.accessAllowed ? 'block' : 'none';\n",
              "    })();\n",
              "  </script>\n",
              "</div>\n",
              "\n",
              "    </div>\n",
              "  </div>\n"
            ],
            "application/vnd.google.colaboratory.intrinsic+json": {
              "type": "dataframe",
              "variable_name": "data",
              "summary": "{\n  \"name\": \"data\",\n  \"rows\": 900,\n  \"fields\": [\n    {\n      \"column\": \"Serial No.\",\n      \"properties\": {\n        \"dtype\": \"number\",\n        \"std\": 134,\n        \"min\": 1,\n        \"max\": 500,\n        \"num_unique_values\": 500,\n        \"samples\": [\n          362,\n          74,\n          375\n        ],\n        \"semantic_type\": \"\",\n        \"description\": \"\"\n      }\n    },\n    {\n      \"column\": \"GRE Score\",\n      \"properties\": {\n        \"dtype\": \"number\",\n        \"std\": 11,\n        \"min\": 290,\n        \"max\": 340,\n        \"num_unique_values\": 49,\n        \"samples\": [\n          307,\n          335,\n          297\n        ],\n        \"semantic_type\": \"\",\n        \"description\": \"\"\n      }\n    },\n    {\n      \"column\": \"TOEFL Score\",\n      \"properties\": {\n        \"dtype\": \"number\",\n        \"std\": 6,\n        \"min\": 92,\n        \"max\": 120,\n        \"num_unique_values\": 29,\n        \"samples\": [\n          94,\n          119,\n          112\n        ],\n        \"semantic_type\": \"\",\n        \"description\": \"\"\n      }\n    },\n    {\n      \"column\": \"University Rating\",\n      \"properties\": {\n        \"dtype\": \"number\",\n        \"std\": 1,\n        \"min\": 1,\n        \"max\": 5,\n        \"num_unique_values\": 5,\n        \"samples\": [\n          3,\n          1,\n          2\n        ],\n        \"semantic_type\": \"\",\n        \"description\": \"\"\n      }\n    },\n    {\n      \"column\": \"SOP\",\n      \"properties\": {\n        \"dtype\": \"number\",\n        \"std\": 0.9976124012000098,\n        \"min\": 1.0,\n        \"max\": 5.0,\n        \"num_unique_values\": 9,\n        \"samples\": [\n          1.0,\n          4.0,\n          5.0\n        ],\n        \"semantic_type\": \"\",\n        \"description\": \"\"\n      }\n    },\n    {\n      \"column\": \"LOR \",\n      \"properties\": {\n        \"dtype\": \"number\",\n        \"std\": 0.9131897183083172,\n        \"min\": 1.0,\n        \"max\": 5.0,\n        \"num_unique_values\": 9,\n        \"samples\": [\n          5.0,\n          3.5,\n          1.5\n        ],\n        \"semantic_type\": \"\",\n        \"description\": \"\"\n      }\n    },\n    {\n      \"column\": \"CGPA\",\n      \"properties\": {\n        \"dtype\": \"number\",\n        \"std\": 0.6008224350361042,\n        \"min\": 6.8,\n        \"max\": 9.92,\n        \"num_unique_values\": 184,\n        \"samples\": [\n          9.6,\n          8.9,\n          8.24\n        ],\n        \"semantic_type\": \"\",\n        \"description\": \"\"\n      }\n    },\n    {\n      \"column\": \"Research\",\n      \"properties\": {\n        \"dtype\": \"number\",\n        \"std\": 0,\n        \"min\": 0,\n        \"max\": 1,\n        \"num_unique_values\": 2,\n        \"samples\": [\n          0,\n          1\n        ],\n        \"semantic_type\": \"\",\n        \"description\": \"\"\n      }\n    },\n    {\n      \"column\": \"Chance of Admit \",\n      \"properties\": {\n        \"dtype\": \"number\",\n        \"std\": 0.14172201322398037,\n        \"min\": 0.34,\n        \"max\": 0.97,\n        \"num_unique_values\": 61,\n        \"samples\": [\n          0.92,\n          0.9\n        ],\n        \"semantic_type\": \"\",\n        \"description\": \"\"\n      }\n    }\n  ]\n}"
            }
          },
          "metadata": {},
          "execution_count": 40
        }
      ]
    },
    {
      "cell_type": "code",
      "source": [
        "data = data.drop('Serial No.', axis=1)\n",
        "test = data.sample(frac=0.2)\n",
        "train = data.drop(test.index).values\n",
        "test = test.values\n",
        "print(train.shape, test.shape)"
      ],
      "metadata": {
        "colab": {
          "base_uri": "https://localhost:8080/"
        },
        "id": "U2Zi9L1T2Lwa",
        "outputId": "4d4a2632-fb53-419c-fdf8-2649a272c744"
      },
      "execution_count": null,
      "outputs": [
        {
          "output_type": "stream",
          "name": "stdout",
          "text": [
            "(720, 8) (180, 8)\n"
          ]
        }
      ]
    },
    {
      "cell_type": "code",
      "source": [
        "X = train[:, :-1]\n",
        "y = train[:, -1]\n",
        "X_test = test[:, :-1]\n",
        "y_test = test[:, -1]"
      ],
      "metadata": {
        "id": "QFlzw11s30Ox"
      },
      "execution_count": null,
      "outputs": []
    },
    {
      "cell_type": "code",
      "source": [
        "X = (X-np.mean(X, axis=0))/np.std(X, axis=0)\n",
        "X_test = (X_test-np.mean(X_test, axis=0))/np.std(X_test, axis=0)\n",
        "X.shape"
      ],
      "metadata": {
        "colab": {
          "base_uri": "https://localhost:8080/"
        },
        "id": "Y-Wpb0wu6G57",
        "outputId": "7144177e-47f7-42ab-ab04-fc385e7bb29a"
      },
      "execution_count": null,
      "outputs": [
        {
          "output_type": "execute_result",
          "data": {
            "text/plain": [
              "(720, 7)"
            ]
          },
          "metadata": {},
          "execution_count": 43
        }
      ]
    },
    {
      "cell_type": "code",
      "source": [
        "lr_model = LinearRegression(lr=0.01, iterations=5000)\n",
        "lr_model.fit(X, y)"
      ],
      "metadata": {
        "colab": {
          "base_uri": "https://localhost:8080/",
          "height": 489
        },
        "id": "g6QxmsxE4AMV",
        "outputId": "30decd4b-5613-4534-fe38-14451304ee96"
      },
      "execution_count": null,
      "outputs": [
        {
          "output_type": "display_data",
          "data": {
            "text/plain": [
              "<Figure size 640x480 with 1 Axes>"
            ],
            "image/png": "[encoded data removed]"
          },
          "metadata": {}
        },
        {
          "output_type": "execute_result",
          "data": {
            "text/plain": [
              "<__main__.LinearRegression at 0x7968568485d0>"
            ]
          },
          "metadata": {},
          "execution_count": 44
        }
      ]
    },
    {
      "cell_type": "code",
      "source": [
        "hypothesis = lr_model.predict(X_test)\n",
        "print('Linear Regression: ')\n",
        "print()\n",
        "print(f'MAE: {mean_absolute_error(y_test, hypothesis)}')\n",
        "print(f'MSE: {mean_squared_error(y_test, hypothesis)}')\n",
        "print(f'R2 Score: {r2_score(y_test, hypothesis)}')"
      ],
      "metadata": {
        "colab": {
          "base_uri": "https://localhost:8080/"
        },
        "id": "7OQ7PL1QU-LT",
        "outputId": "a64865a0-1fa3-4b2b-88f0-3faff7c1d1dc"
      },
      "execution_count": null,
      "outputs": [
        {
          "output_type": "stream",
          "name": "stdout",
          "text": [
            "Linear Regression: \n",
            "\n",
            "MAE: 0.04108228177589991\n",
            "MSE: 0.003161404960653427\n",
            "R2 Score: 0.8326009763787464\n"
          ]
        }
      ]
    },
    {
      "cell_type": "code",
      "source": [
        "rr_model = RidgeRegression(penalty=0.001, lr=0.1, iterations=5000)\n",
        "rr_model.fit(X, y)"
      ],
      "metadata": {
        "colab": {
          "base_uri": "https://localhost:8080/",
          "height": 489
        },
        "id": "KCsR4gcd9e39",
        "outputId": "e5e1f0b2-27fe-43d2-c4a9-8904a29f4629"
      },
      "execution_count": null,
      "outputs": [
        {
          "output_type": "display_data",
          "data": {
            "text/plain": [
              "<Figure size 640x480 with 1 Axes>"
            ],
            "image/png": "[encoded data removed]"
          },
          "metadata": {}
        },
        {
          "output_type": "execute_result",
          "data": {
            "text/plain": [
              "<__main__.RidgeRegression at 0x796855af2a90>"
            ]
          },
          "metadata": {},
          "execution_count": 46
        }
      ]
    },
    {
      "cell_type": "code",
      "source": [
        "hypothesis = rr_model.predict(X_test)\n",
        "print('Ridge Regression: ')\n",
        "print()\n",
        "print(f'MAE: {mean_absolute_error(y_test, hypothesis)}')\n",
        "print(f'MSE: {mean_squared_error(y_test, hypothesis)}')\n",
        "print(f'R2 Score: {r2_score(y_test, hypothesis)}')"
      ],
      "metadata": {
        "colab": {
          "base_uri": "https://localhost:8080/"
        },
        "id": "NOvAGerP-T1I",
        "outputId": "6497ced4-68f1-4dc1-9d0b-95761ccdd841"
      },
      "execution_count": null,
      "outputs": [
        {
          "output_type": "stream",
          "name": "stdout",
          "text": [
            "Ridge Regression: \n",
            "\n",
            "MAE: 0.04108226554828668\n",
            "MSE: 0.00316140532952226\n",
            "R2 Score: 0.8326009568468348\n"
          ]
        }
      ]
    },
    {
      "cell_type": "code",
      "source": [
        "lar_model = LassoRegression(penalty=10, lr=0.1, iterations=5000)\n",
        "lar_model.fit(X, y)"
      ],
      "metadata": {
        "colab": {
          "base_uri": "https://localhost:8080/",
          "height": 489
        },
        "id": "TbqF0uZG-1cL",
        "outputId": "e28bf069-c26e-4b4b-a5b8-be7dcfc18e3a"
      },
      "execution_count": null,
      "outputs": [
        {
          "output_type": "display_data",
          "data": {
            "text/plain": [
              "<Figure size 640x480 with 1 Axes>"
            ],
            "image/png": "[encoded data removed]"
          },
          "metadata": {}
        },
        {
          "output_type": "execute_result",
          "data": {
            "text/plain": [
              "<__main__.LassoRegression at 0x796855cc7910>"
            ]
          },
          "metadata": {},
          "execution_count": 48
        }
      ]
    },
    {
      "cell_type": "code",
      "source": [
        "hypothesis = lar_model.predict(X_test)\n",
        "print('Lasso Regression: ')\n",
        "print()\n",
        "print(f'MAE: {mean_absolute_error(y_test, hypothesis)}')\n",
        "print(f'MSE: {mean_squared_error(y_test, hypothesis)}')\n",
        "print(f'R2 Score: {r2_score(y_test, hypothesis)}')"
      ],
      "metadata": {
        "colab": {
          "base_uri": "https://localhost:8080/"
        },
        "id": "MdJ9965m_DbJ",
        "outputId": "50f7a1e9-10ba-456a-acd3-e30d2a581aed"
      },
      "execution_count": null,
      "outputs": [
        {
          "output_type": "stream",
          "name": "stdout",
          "text": [
            "Lasso Regression: \n",
            "\n",
            "MAE: 0.040349030264558224\n",
            "MSE: 0.003185885296652148\n",
            "R2 Score: 0.8313047222148195\n"
          ]
        }
      ]
    },
    {
      "cell_type": "code",
      "source": [
        "# Stochastic Gradient Descent\n",
        "def SGD(X, y, lr = 0.01, epochs = 200):\n",
        "  b = 0\n",
        "  w = np.zeros(X.shape[1])\n",
        "  for i in range(epochs):\n",
        "    row = random.randint(0, X.shape[0]-1)\n",
        "    X_new = np.array(X.iloc[row,:])\n",
        "    y_new = np.array(y.iloc[row,:])\n",
        "    hypothesis = np.dot(X_new, w) + b\n",
        "    m = X_new.shape[0]\n",
        "    cost = (1/m) * np.sum((hypothesis - y_new)**2)\n",
        "    dw = 2*((1/m) * np.dot(X_new.T.reshape(-1,1), (hypothesis - y_new)))\n",
        "    db = 2*((1/m) * np.sum(hypothesis - y_new))\n",
        "    w = w - lr * dw\n",
        "    b = b - lr * db\n",
        "    return b, w\n",
        "\n",
        "# Mini Batch Gradient Descent\n",
        "def MiniBatch(X,y, lr= 0.01, epochs = 200, batch_size = 50):\n",
        "  b = 0\n",
        "  w = np.zeros(X.shape[1])\n",
        "  for i in range(epochs):\n",
        "    count = 0\n",
        "    row = []\n",
        "    while count < batch_size:\n",
        "      r = random.randint(0, X.shape[0]-1)\n",
        "      if r not in row:\n",
        "        row.append(r)\n",
        "        count += 1\n",
        "    X_new = X.iloc[row,:]\n",
        "    y_new = y.iloc[row,:]\n",
        "    hypothesis = np.dot(X_new, w) + b\n",
        "    m = X_new.shape[0]\n",
        "    cost = (1/m) * np.sum((hypothesis - y_new.values))**2\n",
        "    dw = np.zeros(w.shape)\n",
        "    for j in range(X_new.shape[1]):\n",
        "        dw[j] = (2/m) * np.sum(X_new.iloc[:, j].values * (hypothesis - y_new.values))\n",
        "    db = 2*((1/m) * np.sum(hypothesis - y_new.values))\n",
        "    w = w - lr * dw\n",
        "    b = b - lr * db\n",
        "    return b, w"
      ],
      "metadata": {
        "id": "vwCVqWgcjeop"
      },
      "execution_count": null,
      "outputs": []
    }
  ]
}